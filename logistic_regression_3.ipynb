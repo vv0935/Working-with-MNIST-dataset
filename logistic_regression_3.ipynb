{
  "cells": [
    {
      "cell_type": "code",
      "execution_count": null,
      "id": "3b8901ed",
      "metadata": {
        "id": "3b8901ed"
      },
      "outputs": [],
      "source": [
        "import torch\n",
        "import torchvision\n",
        "from torchvision.datasets import MNIST"
      ]
    },
    {
      "cell_type": "code",
      "execution_count": null,
      "id": "ba0868bc",
      "metadata": {
        "colab": {
          "base_uri": "https://localhost:8080/"
        },
        "id": "ba0868bc",
        "outputId": "1c9bc8c5-f518-4bd3-bee7-6a8c53000057"
      },
      "outputs": [
        {
          "output_type": "stream",
          "name": "stdout",
          "text": [
            "Requirement already satisfied: torch in /usr/local/lib/python3.10/dist-packages (2.2.1+cu121)\n",
            "Requirement already satisfied: filelock in /usr/local/lib/python3.10/dist-packages (from torch) (3.13.1)\n",
            "Requirement already satisfied: typing-extensions>=4.8.0 in /usr/local/lib/python3.10/dist-packages (from torch) (4.10.0)\n",
            "Requirement already satisfied: sympy in /usr/local/lib/python3.10/dist-packages (from torch) (1.12)\n",
            "Requirement already satisfied: networkx in /usr/local/lib/python3.10/dist-packages (from torch) (3.2.1)\n",
            "Requirement already satisfied: jinja2 in /usr/local/lib/python3.10/dist-packages (from torch) (3.1.3)\n",
            "Requirement already satisfied: fsspec in /usr/local/lib/python3.10/dist-packages (from torch) (2023.6.0)\n",
            "Requirement already satisfied: nvidia-cuda-nvrtc-cu12==12.1.105 in /usr/local/lib/python3.10/dist-packages (from torch) (12.1.105)\n",
            "Requirement already satisfied: nvidia-cuda-runtime-cu12==12.1.105 in /usr/local/lib/python3.10/dist-packages (from torch) (12.1.105)\n",
            "Requirement already satisfied: nvidia-cuda-cupti-cu12==12.1.105 in /usr/local/lib/python3.10/dist-packages (from torch) (12.1.105)\n",
            "Requirement already satisfied: nvidia-cudnn-cu12==8.9.2.26 in /usr/local/lib/python3.10/dist-packages (from torch) (8.9.2.26)\n",
            "Requirement already satisfied: nvidia-cublas-cu12==12.1.3.1 in /usr/local/lib/python3.10/dist-packages (from torch) (12.1.3.1)\n",
            "Requirement already satisfied: nvidia-cufft-cu12==11.0.2.54 in /usr/local/lib/python3.10/dist-packages (from torch) (11.0.2.54)\n",
            "Requirement already satisfied: nvidia-curand-cu12==10.3.2.106 in /usr/local/lib/python3.10/dist-packages (from torch) (10.3.2.106)\n",
            "Requirement already satisfied: nvidia-cusolver-cu12==11.4.5.107 in /usr/local/lib/python3.10/dist-packages (from torch) (11.4.5.107)\n",
            "Requirement already satisfied: nvidia-cusparse-cu12==12.1.0.106 in /usr/local/lib/python3.10/dist-packages (from torch) (12.1.0.106)\n",
            "Requirement already satisfied: nvidia-nccl-cu12==2.19.3 in /usr/local/lib/python3.10/dist-packages (from torch) (2.19.3)\n",
            "Requirement already satisfied: nvidia-nvtx-cu12==12.1.105 in /usr/local/lib/python3.10/dist-packages (from torch) (12.1.105)\n",
            "Requirement already satisfied: triton==2.2.0 in /usr/local/lib/python3.10/dist-packages (from torch) (2.2.0)\n",
            "Requirement already satisfied: nvidia-nvjitlink-cu12 in /usr/local/lib/python3.10/dist-packages (from nvidia-cusolver-cu12==11.4.5.107->torch) (12.4.99)\n",
            "Requirement already satisfied: MarkupSafe>=2.0 in /usr/local/lib/python3.10/dist-packages (from jinja2->torch) (2.1.5)\n",
            "Requirement already satisfied: mpmath>=0.19 in /usr/local/lib/python3.10/dist-packages (from sympy->torch) (1.3.0)\n"
          ]
        }
      ],
      "source": [
        "!pip install torch"
      ]
    },
    {
      "cell_type": "code",
      "execution_count": null,
      "id": "054e2948",
      "metadata": {
        "colab": {
          "base_uri": "https://localhost:8080/"
        },
        "id": "054e2948",
        "outputId": "2346a610-06e8-4548-ccc0-cfc2e8c6b186"
      },
      "outputs": [
        {
          "output_type": "stream",
          "name": "stdout",
          "text": [
            "Requirement already satisfied: torchvision in /usr/local/lib/python3.10/dist-packages (0.17.1+cu121)\n",
            "Requirement already satisfied: numpy in /usr/local/lib/python3.10/dist-packages (from torchvision) (1.23.5)\n",
            "Requirement already satisfied: torch==2.2.1 in /usr/local/lib/python3.10/dist-packages (from torchvision) (2.2.1+cu121)\n",
            "Requirement already satisfied: pillow!=8.3.*,>=5.3.0 in /usr/local/lib/python3.10/dist-packages (from torchvision) (9.4.0)\n",
            "Requirement already satisfied: filelock in /usr/local/lib/python3.10/dist-packages (from torch==2.2.1->torchvision) (3.13.1)\n",
            "Requirement already satisfied: typing-extensions>=4.8.0 in /usr/local/lib/python3.10/dist-packages (from torch==2.2.1->torchvision) (4.10.0)\n",
            "Requirement already satisfied: sympy in /usr/local/lib/python3.10/dist-packages (from torch==2.2.1->torchvision) (1.12)\n",
            "Requirement already satisfied: networkx in /usr/local/lib/python3.10/dist-packages (from torch==2.2.1->torchvision) (3.2.1)\n",
            "Requirement already satisfied: jinja2 in /usr/local/lib/python3.10/dist-packages (from torch==2.2.1->torchvision) (3.1.3)\n",
            "Requirement already satisfied: fsspec in /usr/local/lib/python3.10/dist-packages (from torch==2.2.1->torchvision) (2023.6.0)\n",
            "Requirement already satisfied: nvidia-cuda-nvrtc-cu12==12.1.105 in /usr/local/lib/python3.10/dist-packages (from torch==2.2.1->torchvision) (12.1.105)\n",
            "Requirement already satisfied: nvidia-cuda-runtime-cu12==12.1.105 in /usr/local/lib/python3.10/dist-packages (from torch==2.2.1->torchvision) (12.1.105)\n",
            "Requirement already satisfied: nvidia-cuda-cupti-cu12==12.1.105 in /usr/local/lib/python3.10/dist-packages (from torch==2.2.1->torchvision) (12.1.105)\n",
            "Requirement already satisfied: nvidia-cudnn-cu12==8.9.2.26 in /usr/local/lib/python3.10/dist-packages (from torch==2.2.1->torchvision) (8.9.2.26)\n",
            "Requirement already satisfied: nvidia-cublas-cu12==12.1.3.1 in /usr/local/lib/python3.10/dist-packages (from torch==2.2.1->torchvision) (12.1.3.1)\n",
            "Requirement already satisfied: nvidia-cufft-cu12==11.0.2.54 in /usr/local/lib/python3.10/dist-packages (from torch==2.2.1->torchvision) (11.0.2.54)\n",
            "Requirement already satisfied: nvidia-curand-cu12==10.3.2.106 in /usr/local/lib/python3.10/dist-packages (from torch==2.2.1->torchvision) (10.3.2.106)\n",
            "Requirement already satisfied: nvidia-cusolver-cu12==11.4.5.107 in /usr/local/lib/python3.10/dist-packages (from torch==2.2.1->torchvision) (11.4.5.107)\n",
            "Requirement already satisfied: nvidia-cusparse-cu12==12.1.0.106 in /usr/local/lib/python3.10/dist-packages (from torch==2.2.1->torchvision) (12.1.0.106)\n",
            "Requirement already satisfied: nvidia-nccl-cu12==2.19.3 in /usr/local/lib/python3.10/dist-packages (from torch==2.2.1->torchvision) (2.19.3)\n",
            "Requirement already satisfied: nvidia-nvtx-cu12==12.1.105 in /usr/local/lib/python3.10/dist-packages (from torch==2.2.1->torchvision) (12.1.105)\n",
            "Requirement already satisfied: triton==2.2.0 in /usr/local/lib/python3.10/dist-packages (from torch==2.2.1->torchvision) (2.2.0)\n",
            "Requirement already satisfied: nvidia-nvjitlink-cu12 in /usr/local/lib/python3.10/dist-packages (from nvidia-cusolver-cu12==11.4.5.107->torch==2.2.1->torchvision) (12.4.99)\n",
            "Requirement already satisfied: MarkupSafe>=2.0 in /usr/local/lib/python3.10/dist-packages (from jinja2->torch==2.2.1->torchvision) (2.1.5)\n",
            "Requirement already satisfied: mpmath>=0.19 in /usr/local/lib/python3.10/dist-packages (from sympy->torch==2.2.1->torchvision) (1.3.0)\n"
          ]
        }
      ],
      "source": [
        "!pip install torchvision"
      ]
    },
    {
      "cell_type": "code",
      "execution_count": null,
      "id": "d72626e9",
      "metadata": {
        "colab": {
          "base_uri": "https://localhost:8080/"
        },
        "id": "d72626e9",
        "outputId": "883277ef-b29e-4b76-af52-8e5840526345"
      },
      "outputs": [
        {
          "output_type": "execute_result",
          "data": {
            "text/plain": [
              "60000"
            ]
          },
          "metadata": {},
          "execution_count": 4
        }
      ],
      "source": [
        "dataset=MNIST(root='data/',download=True)\n",
        "len(dataset)"
      ]
    },
    {
      "cell_type": "code",
      "execution_count": null,
      "id": "055d09ff",
      "metadata": {
        "colab": {
          "base_uri": "https://localhost:8080/"
        },
        "id": "055d09ff",
        "outputId": "7741a42f-3fc1-4161-867a-896f3fde4253"
      },
      "outputs": [
        {
          "output_type": "execute_result",
          "data": {
            "text/plain": [
              "10000"
            ]
          },
          "metadata": {},
          "execution_count": 5
        }
      ],
      "source": [
        "test_dataset=MNIST(root='data/',train=False)\n",
        "len(test_dataset)"
      ]
    },
    {
      "cell_type": "code",
      "execution_count": null,
      "id": "284823ff",
      "metadata": {
        "colab": {
          "base_uri": "https://localhost:8080/"
        },
        "id": "284823ff",
        "outputId": "5f03b882-f579-4083-9f5c-28f7bf3da042"
      },
      "outputs": [
        {
          "output_type": "execute_result",
          "data": {
            "text/plain": [
              "(<PIL.Image.Image image mode=L size=28x28>, 5)"
            ]
          },
          "metadata": {},
          "execution_count": 6
        }
      ],
      "source": [
        "dataset[0]"
      ]
    },
    {
      "cell_type": "code",
      "execution_count": null,
      "id": "c333bfdd",
      "metadata": {
        "id": "c333bfdd"
      },
      "outputs": [],
      "source": [
        "import matplotlib.pyplot as plt\n",
        "%matplotlib inline"
      ]
    },
    {
      "cell_type": "code",
      "execution_count": null,
      "id": "0e53cae2",
      "metadata": {
        "colab": {
          "base_uri": "https://localhost:8080/",
          "height": 448
        },
        "id": "0e53cae2",
        "outputId": "1f3c9378-dbf8-4650-fd6b-37c4d866735d"
      },
      "outputs": [
        {
          "output_type": "display_data",
          "data": {
            "text/plain": [
              "<Figure size 640x480 with 1 Axes>"
            ],
            "image/png": "[encoded data removed]"
          },
          "metadata": {}
        },
        {
          "output_type": "stream",
          "name": "stdout",
          "text": [
            "label is: 5\n"
          ]
        }
      ],
      "source": [
        "image,label=dataset[0]\n",
        "plt.imshow(image,cmap='gray')\n",
        "plt.show()\n",
        "print(\"label is:\",label)"
      ]
    },
    {
      "cell_type": "code",
      "execution_count": null,
      "id": "1853718d",
      "metadata": {
        "colab": {
          "base_uri": "https://localhost:8080/",
          "height": 430
        },
        "id": "1853718d",
        "outputId": "5fa962e9-2750-475e-bdd0-6a5a6c9b4827"
      },
      "outputs": [
        {
          "output_type": "display_data",
          "data": {
            "text/plain": [
              "<Figure size 640x480 with 1 Axes>"
            ],
            "image/png": "[encoded data removed]"
          },
          "metadata": {}
        }
      ],
      "source": [
        "import random\n",
        "dx=random.randint(0,len(dataset))\n",
        "image,label=dataset[dx]\n",
        "plt.imshow(image,cmap='gray')\n",
        "plt.show()\n"
      ]
    },
    {
      "cell_type": "code",
      "execution_count": null,
      "id": "7c441d7b",
      "metadata": {
        "id": "7c441d7b"
      },
      "outputs": [],
      "source": [
        "import torchvision.transforms as transforms"
      ]
    },
    {
      "cell_type": "code",
      "execution_count": null,
      "id": "79af50e9",
      "metadata": {
        "id": "79af50e9"
      },
      "outputs": [],
      "source": [
        "dataset=MNIST(root='data/',train=True,transform=transforms.ToTensor())"
      ]
    },
    {
      "cell_type": "code",
      "execution_count": null,
      "id": "2f4419bd",
      "metadata": {
        "colab": {
          "base_uri": "https://localhost:8080/"
        },
        "id": "2f4419bd",
        "outputId": "ee2ab8b9-55bb-4eec-a853-f4ad653a4c55"
      },
      "outputs": [
        {
          "output_type": "stream",
          "name": "stdout",
          "text": [
            "torch.Size([1, 28, 28])\n"
          ]
        }
      ],
      "source": [
        "img_tensor,label=dataset[0]\n",
        "print(img_tensor.shape)#1-> color channel 28->height 28->width of image"
      ]
    },
    {
      "cell_type": "code",
      "execution_count": null,
      "id": "fcdd4727",
      "metadata": {
        "colab": {
          "base_uri": "https://localhost:8080/"
        },
        "id": "fcdd4727",
        "outputId": "9ab682b1-31e9-4e91-ec46-c3c16bc65380"
      },
      "outputs": [
        {
          "output_type": "stream",
          "name": "stdout",
          "text": [
            "tensor([[0.0039, 0.6039, 0.9922, 0.3529, 0.0000],\n",
            "        [0.0000, 0.5451, 0.9922, 0.7451, 0.0078],\n",
            "        [0.0000, 0.0431, 0.7451, 0.9922, 0.2745],\n",
            "        [0.0000, 0.0000, 0.1373, 0.9451, 0.8824],\n",
            "        [0.0000, 0.0000, 0.0000, 0.3176, 0.9412]])\n",
            "tensor(0.) tensor(1.)\n"
          ]
        }
      ],
      "source": [
        "print(img_tensor[0,10:15,10:15])\n",
        "print(torch.min(img_tensor),torch.max(img_tensor))"
      ]
    },
    {
      "cell_type": "code",
      "execution_count": null,
      "id": "787af75b",
      "metadata": {
        "id": "787af75b"
      },
      "outputs": [],
      "source": []
    },
    {
      "cell_type": "code",
      "execution_count": null,
      "id": "32ce2cad",
      "metadata": {
        "id": "32ce2cad"
      },
      "outputs": [],
      "source": []
    },
    {
      "cell_type": "code",
      "execution_count": null,
      "id": "45b4713b",
      "metadata": {
        "scrolled": true,
        "colab": {
          "base_uri": "https://localhost:8080/"
        },
        "id": "45b4713b",
        "outputId": "c15e64f7-75ea-4cf5-97d3-d02b4ea362d0"
      },
      "outputs": [
        {
          "output_type": "execute_result",
          "data": {
            "text/plain": [
              "torch.Size([1, 28, 28])"
            ]
          },
          "metadata": {},
          "execution_count": 14
        }
      ],
      "source": [
        "img_tensor.shape"
      ]
    },
    {
      "cell_type": "code",
      "execution_count": null,
      "id": "fe24caa9",
      "metadata": {
        "colab": {
          "base_uri": "https://localhost:8080/",
          "height": 448
        },
        "id": "fe24caa9",
        "outputId": "8a979e1f-821f-4ac2-ec99-ad767df8783c"
      },
      "outputs": [
        {
          "output_type": "execute_result",
          "data": {
            "text/plain": [
              "<matplotlib.image.AxesImage at 0x7ed06e552f50>"
            ]
          },
          "metadata": {},
          "execution_count": 15
        },
        {
          "output_type": "display_data",
          "data": {
            "text/plain": [
              "<Figure size 640x480 with 1 Axes>"
            ],
            "image/png": "[encoded data removed]"
          },
          "metadata": {}
        }
      ],
      "source": [
        "plt.imshow(img_tensor[0,10:15,10:15],cmap='gray')"
      ]
    },
    {
      "cell_type": "code",
      "execution_count": null,
      "id": "779b125a",
      "metadata": {
        "colab": {
          "base_uri": "https://localhost:8080/"
        },
        "id": "779b125a",
        "outputId": "e1cb49e9-fa58-4834-e14d-9bf218084fe9"
      },
      "outputs": [
        {
          "output_type": "execute_result",
          "data": {
            "text/plain": [
              "torch.Size([1, 28, 28])"
            ]
          },
          "metadata": {},
          "execution_count": 16
        }
      ],
      "source": [
        "img_tensor.shape"
      ]
    },
    {
      "cell_type": "code",
      "execution_count": null,
      "id": "4741f5db",
      "metadata": {
        "id": "4741f5db"
      },
      "outputs": [],
      "source": []
    },
    {
      "cell_type": "code",
      "execution_count": null,
      "id": "46827d3f",
      "metadata": {
        "colab": {
          "base_uri": "https://localhost:8080/"
        },
        "id": "46827d3f",
        "outputId": "37d8894c-9292-462d-ed92-13ddb2b7ae5f"
      },
      "outputs": [
        {
          "output_type": "execute_result",
          "data": {
            "text/plain": [
              "(50000, 10000)"
            ]
          },
          "metadata": {},
          "execution_count": 17
        }
      ],
      "source": [
        "from torch.utils.data import random_split\n",
        "train_ds,val_ds=random_split(dataset,[50000,10000])\n",
        "len(train_ds),len(val_ds)"
      ]
    },
    {
      "cell_type": "code",
      "execution_count": null,
      "id": "a87a1a87",
      "metadata": {
        "id": "a87a1a87"
      },
      "outputs": [],
      "source": [
        "from torch.utils.data import DataLoader\n",
        "batch_size=128\n",
        "train_dl=DataLoader(train_ds,batch_size,shuffle=True)\n",
        "val_dl=DataLoader(val_ds,batch_size)"
      ]
    },
    {
      "cell_type": "code",
      "execution_count": null,
      "id": "769d6e54",
      "metadata": {
        "id": "769d6e54"
      },
      "outputs": [],
      "source": [
        "import torch.nn as nn"
      ]
    },
    {
      "cell_type": "code",
      "execution_count": null,
      "id": "ae33c8bb",
      "metadata": {
        "id": "ae33c8bb"
      },
      "outputs": [],
      "source": [
        "input_size=28*28\n",
        "num_classes=10\n",
        "model=nn.Linear(input_size, num_classes)\n"
      ]
    },
    {
      "cell_type": "code",
      "execution_count": null,
      "id": "a524c89d",
      "metadata": {
        "colab": {
          "base_uri": "https://localhost:8080/"
        },
        "id": "a524c89d",
        "outputId": "ee0ec16a-19c4-47a7-be98-f2bbd8905a79"
      },
      "outputs": [
        {
          "output_type": "stream",
          "name": "stdout",
          "text": [
            "torch.Size([10, 784])\n",
            "torch.Size([10])\n"
          ]
        }
      ],
      "source": [
        "print(model.weight.shape)\n",
        "print(model.bias.shape)"
      ]
    },
    {
      "cell_type": "code",
      "execution_count": null,
      "id": "a2d02c15",
      "metadata": {
        "colab": {
          "base_uri": "https://localhost:8080/",
          "height": 1000
        },
        "id": "a2d02c15",
        "outputId": "087c7c30-c296-4030-9ec3-4a7a5e468e8f"
      },
      "outputs": [
        {
          "output_type": "stream",
          "name": "stdout",
          "text": [
            "5\n",
            "torch.Size([128, 1, 28, 28])\n",
            "5\n",
            "torch.Size([128, 1, 28, 28])\n",
            "5\n",
            "torch.Size([128, 1, 28, 28])\n",
            "5\n",
            "torch.Size([128, 1, 28, 28])\n",
            "5\n",
            "torch.Size([128, 1, 28, 28])\n",
            "5\n",
            "torch.Size([128, 1, 28, 28])\n",
            "5\n",
            "torch.Size([128, 1, 28, 28])\n",
            "5\n",
            "torch.Size([128, 1, 28, 28])\n",
            "5\n",
            "torch.Size([128, 1, 28, 28])\n",
            "5\n",
            "torch.Size([128, 1, 28, 28])\n",
            "5\n",
            "torch.Size([128, 1, 28, 28])\n",
            "5\n",
            "torch.Size([128, 1, 28, 28])\n",
            "5\n",
            "torch.Size([128, 1, 28, 28])\n",
            "5\n",
            "torch.Size([128, 1, 28, 28])\n",
            "5\n",
            "torch.Size([128, 1, 28, 28])\n",
            "5\n",
            "torch.Size([128, 1, 28, 28])\n",
            "5\n",
            "torch.Size([128, 1, 28, 28])\n",
            "5\n",
            "torch.Size([128, 1, 28, 28])\n",
            "5\n",
            "torch.Size([128, 1, 28, 28])\n",
            "5\n",
            "torch.Size([128, 1, 28, 28])\n",
            "5\n",
            "torch.Size([128, 1, 28, 28])\n",
            "5\n",
            "torch.Size([128, 1, 28, 28])\n",
            "5\n",
            "torch.Size([128, 1, 28, 28])\n",
            "5\n",
            "torch.Size([128, 1, 28, 28])\n",
            "5\n",
            "torch.Size([128, 1, 28, 28])\n",
            "5\n",
            "torch.Size([128, 1, 28, 28])\n",
            "5\n",
            "torch.Size([128, 1, 28, 28])\n",
            "5\n",
            "torch.Size([128, 1, 28, 28])\n",
            "5\n",
            "torch.Size([128, 1, 28, 28])\n",
            "5\n",
            "torch.Size([128, 1, 28, 28])\n",
            "5\n",
            "torch.Size([128, 1, 28, 28])\n",
            "5\n",
            "torch.Size([128, 1, 28, 28])\n",
            "5\n",
            "torch.Size([128, 1, 28, 28])\n",
            "5\n",
            "torch.Size([128, 1, 28, 28])\n",
            "5\n",
            "torch.Size([128, 1, 28, 28])\n",
            "5\n",
            "torch.Size([128, 1, 28, 28])\n",
            "5\n",
            "torch.Size([128, 1, 28, 28])\n",
            "5\n",
            "torch.Size([128, 1, 28, 28])\n",
            "5\n",
            "torch.Size([128, 1, 28, 28])\n",
            "5\n",
            "torch.Size([128, 1, 28, 28])\n",
            "5\n",
            "torch.Size([128, 1, 28, 28])\n",
            "5\n",
            "torch.Size([128, 1, 28, 28])\n",
            "5\n",
            "torch.Size([128, 1, 28, 28])\n",
            "5\n",
            "torch.Size([128, 1, 28, 28])\n",
            "5\n",
            "torch.Size([128, 1, 28, 28])\n",
            "5\n",
            "torch.Size([128, 1, 28, 28])\n",
            "5\n",
            "torch.Size([128, 1, 28, 28])\n",
            "5\n",
            "torch.Size([128, 1, 28, 28])\n",
            "5\n",
            "torch.Size([128, 1, 28, 28])\n",
            "5\n",
            "torch.Size([128, 1, 28, 28])\n",
            "5\n",
            "torch.Size([128, 1, 28, 28])\n",
            "5\n",
            "torch.Size([128, 1, 28, 28])\n",
            "5\n",
            "torch.Size([128, 1, 28, 28])\n",
            "5\n",
            "torch.Size([128, 1, 28, 28])\n",
            "5\n",
            "torch.Size([128, 1, 28, 28])\n",
            "5\n",
            "torch.Size([128, 1, 28, 28])\n",
            "5\n",
            "torch.Size([128, 1, 28, 28])\n",
            "5\n",
            "torch.Size([128, 1, 28, 28])\n",
            "5\n",
            "torch.Size([128, 1, 28, 28])\n",
            "5\n",
            "torch.Size([128, 1, 28, 28])\n",
            "5\n",
            "torch.Size([128, 1, 28, 28])\n",
            "5\n",
            "torch.Size([128, 1, 28, 28])\n",
            "5\n",
            "torch.Size([128, 1, 28, 28])\n",
            "5\n",
            "torch.Size([128, 1, 28, 28])\n",
            "5\n",
            "torch.Size([128, 1, 28, 28])\n",
            "5\n",
            "torch.Size([128, 1, 28, 28])\n",
            "5\n",
            "torch.Size([128, 1, 28, 28])\n",
            "5\n",
            "torch.Size([128, 1, 28, 28])\n",
            "5\n",
            "torch.Size([128, 1, 28, 28])\n",
            "5\n",
            "torch.Size([128, 1, 28, 28])\n",
            "5\n",
            "torch.Size([128, 1, 28, 28])\n",
            "5\n",
            "torch.Size([128, 1, 28, 28])\n",
            "5\n",
            "torch.Size([128, 1, 28, 28])\n",
            "5\n",
            "torch.Size([128, 1, 28, 28])\n",
            "5\n",
            "torch.Size([128, 1, 28, 28])\n",
            "5\n",
            "torch.Size([128, 1, 28, 28])\n",
            "5\n",
            "torch.Size([128, 1, 28, 28])\n",
            "5\n",
            "torch.Size([128, 1, 28, 28])\n",
            "5\n",
            "torch.Size([128, 1, 28, 28])\n",
            "5\n",
            "torch.Size([128, 1, 28, 28])\n",
            "5\n",
            "torch.Size([128, 1, 28, 28])\n",
            "5\n",
            "torch.Size([128, 1, 28, 28])\n",
            "5\n",
            "torch.Size([128, 1, 28, 28])\n",
            "5\n",
            "torch.Size([128, 1, 28, 28])\n",
            "5\n",
            "torch.Size([128, 1, 28, 28])\n",
            "5\n",
            "torch.Size([128, 1, 28, 28])\n",
            "5\n",
            "torch.Size([128, 1, 28, 28])\n",
            "5\n",
            "torch.Size([128, 1, 28, 28])\n",
            "5\n",
            "torch.Size([128, 1, 28, 28])\n",
            "5\n",
            "torch.Size([128, 1, 28, 28])\n",
            "5\n",
            "torch.Size([128, 1, 28, 28])\n",
            "5\n",
            "torch.Size([128, 1, 28, 28])\n",
            "5\n",
            "torch.Size([128, 1, 28, 28])\n",
            "5\n",
            "torch.Size([128, 1, 28, 28])\n",
            "5\n",
            "torch.Size([128, 1, 28, 28])\n",
            "5\n",
            "torch.Size([128, 1, 28, 28])\n",
            "5\n",
            "torch.Size([128, 1, 28, 28])\n",
            "5\n",
            "torch.Size([128, 1, 28, 28])\n",
            "5\n",
            "torch.Size([128, 1, 28, 28])\n",
            "5\n",
            "torch.Size([128, 1, 28, 28])\n",
            "5\n",
            "torch.Size([128, 1, 28, 28])\n",
            "5\n",
            "torch.Size([128, 1, 28, 28])\n",
            "5\n",
            "torch.Size([128, 1, 28, 28])\n",
            "5\n",
            "torch.Size([128, 1, 28, 28])\n",
            "5\n",
            "torch.Size([128, 1, 28, 28])\n",
            "5\n",
            "torch.Size([128, 1, 28, 28])\n",
            "5\n",
            "torch.Size([128, 1, 28, 28])\n",
            "5\n",
            "torch.Size([128, 1, 28, 28])\n",
            "5\n",
            "torch.Size([128, 1, 28, 28])\n",
            "5\n",
            "torch.Size([128, 1, 28, 28])\n",
            "5\n",
            "torch.Size([128, 1, 28, 28])\n",
            "5\n",
            "torch.Size([128, 1, 28, 28])\n",
            "5\n",
            "torch.Size([128, 1, 28, 28])\n",
            "5\n",
            "torch.Size([128, 1, 28, 28])\n",
            "5\n",
            "torch.Size([128, 1, 28, 28])\n",
            "5\n",
            "torch.Size([128, 1, 28, 28])\n",
            "5\n",
            "torch.Size([128, 1, 28, 28])\n",
            "5\n",
            "torch.Size([128, 1, 28, 28])\n",
            "5\n",
            "torch.Size([128, 1, 28, 28])\n",
            "5\n",
            "torch.Size([128, 1, 28, 28])\n",
            "5\n",
            "torch.Size([128, 1, 28, 28])\n",
            "5\n",
            "torch.Size([128, 1, 28, 28])\n",
            "5\n",
            "torch.Size([128, 1, 28, 28])\n",
            "5\n",
            "torch.Size([128, 1, 28, 28])\n",
            "5\n",
            "torch.Size([128, 1, 28, 28])\n",
            "5\n",
            "torch.Size([128, 1, 28, 28])\n",
            "5\n",
            "torch.Size([128, 1, 28, 28])\n",
            "5\n",
            "torch.Size([128, 1, 28, 28])\n",
            "5\n",
            "torch.Size([128, 1, 28, 28])\n",
            "5\n",
            "torch.Size([128, 1, 28, 28])\n",
            "5\n",
            "torch.Size([128, 1, 28, 28])\n",
            "5\n",
            "torch.Size([128, 1, 28, 28])\n",
            "5\n",
            "torch.Size([128, 1, 28, 28])\n",
            "5\n",
            "torch.Size([128, 1, 28, 28])\n",
            "5\n",
            "torch.Size([128, 1, 28, 28])\n",
            "5\n",
            "torch.Size([128, 1, 28, 28])\n",
            "5\n",
            "torch.Size([128, 1, 28, 28])\n",
            "5\n",
            "torch.Size([128, 1, 28, 28])\n",
            "5\n",
            "torch.Size([128, 1, 28, 28])\n",
            "5\n",
            "torch.Size([128, 1, 28, 28])\n",
            "5\n",
            "torch.Size([128, 1, 28, 28])\n",
            "5\n",
            "torch.Size([128, 1, 28, 28])\n",
            "5\n",
            "torch.Size([128, 1, 28, 28])\n",
            "5\n",
            "torch.Size([128, 1, 28, 28])\n",
            "5\n",
            "torch.Size([128, 1, 28, 28])\n",
            "5\n",
            "torch.Size([128, 1, 28, 28])\n",
            "5\n",
            "torch.Size([128, 1, 28, 28])\n",
            "5\n",
            "torch.Size([128, 1, 28, 28])\n",
            "5\n",
            "torch.Size([128, 1, 28, 28])\n",
            "5\n",
            "torch.Size([128, 1, 28, 28])\n",
            "5\n",
            "torch.Size([128, 1, 28, 28])\n",
            "5\n",
            "torch.Size([128, 1, 28, 28])\n",
            "5\n",
            "torch.Size([128, 1, 28, 28])\n",
            "5\n",
            "torch.Size([128, 1, 28, 28])\n",
            "5\n",
            "torch.Size([128, 1, 28, 28])\n",
            "5\n",
            "torch.Size([128, 1, 28, 28])\n",
            "5\n",
            "torch.Size([128, 1, 28, 28])\n",
            "5\n",
            "torch.Size([128, 1, 28, 28])\n",
            "5\n",
            "torch.Size([128, 1, 28, 28])\n",
            "5\n",
            "torch.Size([128, 1, 28, 28])\n",
            "5\n",
            "torch.Size([128, 1, 28, 28])\n",
            "5\n",
            "torch.Size([128, 1, 28, 28])\n",
            "5\n",
            "torch.Size([128, 1, 28, 28])\n",
            "5\n",
            "torch.Size([128, 1, 28, 28])\n",
            "5\n",
            "torch.Size([128, 1, 28, 28])\n",
            "5\n",
            "torch.Size([128, 1, 28, 28])\n",
            "5\n",
            "torch.Size([128, 1, 28, 28])\n",
            "5\n",
            "torch.Size([128, 1, 28, 28])\n",
            "5\n",
            "torch.Size([128, 1, 28, 28])\n",
            "5\n",
            "torch.Size([128, 1, 28, 28])\n",
            "5\n",
            "torch.Size([128, 1, 28, 28])\n",
            "5\n",
            "torch.Size([128, 1, 28, 28])\n",
            "5\n",
            "torch.Size([128, 1, 28, 28])\n",
            "5\n",
            "torch.Size([128, 1, 28, 28])\n",
            "5\n",
            "torch.Size([128, 1, 28, 28])\n",
            "5\n",
            "torch.Size([128, 1, 28, 28])\n",
            "5\n",
            "torch.Size([128, 1, 28, 28])\n",
            "5\n",
            "torch.Size([128, 1, 28, 28])\n",
            "5\n",
            "torch.Size([128, 1, 28, 28])\n",
            "5\n",
            "torch.Size([128, 1, 28, 28])\n",
            "5\n",
            "torch.Size([128, 1, 28, 28])\n",
            "5\n",
            "torch.Size([128, 1, 28, 28])\n",
            "5\n",
            "torch.Size([128, 1, 28, 28])\n",
            "5\n",
            "torch.Size([128, 1, 28, 28])\n",
            "5\n",
            "torch.Size([128, 1, 28, 28])\n",
            "5\n",
            "torch.Size([128, 1, 28, 28])\n",
            "5\n",
            "torch.Size([128, 1, 28, 28])\n",
            "5\n",
            "torch.Size([128, 1, 28, 28])\n",
            "5\n",
            "torch.Size([128, 1, 28, 28])\n",
            "5\n",
            "torch.Size([128, 1, 28, 28])\n",
            "5\n",
            "torch.Size([128, 1, 28, 28])\n",
            "5\n",
            "torch.Size([128, 1, 28, 28])\n",
            "5\n",
            "torch.Size([128, 1, 28, 28])\n",
            "5\n",
            "torch.Size([128, 1, 28, 28])\n",
            "5\n",
            "torch.Size([128, 1, 28, 28])\n",
            "5\n",
            "torch.Size([128, 1, 28, 28])\n",
            "5\n",
            "torch.Size([128, 1, 28, 28])\n",
            "5\n",
            "torch.Size([128, 1, 28, 28])\n",
            "5\n",
            "torch.Size([128, 1, 28, 28])\n",
            "5\n",
            "torch.Size([128, 1, 28, 28])\n",
            "5\n",
            "torch.Size([128, 1, 28, 28])\n",
            "5\n",
            "torch.Size([128, 1, 28, 28])\n",
            "5\n",
            "torch.Size([128, 1, 28, 28])\n",
            "5\n",
            "torch.Size([128, 1, 28, 28])\n",
            "5\n",
            "torch.Size([128, 1, 28, 28])\n",
            "5\n",
            "torch.Size([128, 1, 28, 28])\n",
            "5\n",
            "torch.Size([128, 1, 28, 28])\n",
            "5\n",
            "torch.Size([128, 1, 28, 28])\n",
            "5\n",
            "torch.Size([128, 1, 28, 28])\n",
            "5\n",
            "torch.Size([128, 1, 28, 28])\n",
            "5\n",
            "torch.Size([128, 1, 28, 28])\n",
            "5\n",
            "torch.Size([128, 1, 28, 28])\n",
            "5\n",
            "torch.Size([128, 1, 28, 28])\n",
            "5\n",
            "torch.Size([128, 1, 28, 28])\n",
            "5\n",
            "torch.Size([128, 1, 28, 28])\n",
            "5\n",
            "torch.Size([128, 1, 28, 28])\n",
            "5\n",
            "torch.Size([128, 1, 28, 28])\n",
            "5\n",
            "torch.Size([128, 1, 28, 28])\n",
            "5\n",
            "torch.Size([128, 1, 28, 28])\n",
            "5\n",
            "torch.Size([128, 1, 28, 28])\n",
            "5\n",
            "torch.Size([128, 1, 28, 28])\n",
            "5\n",
            "torch.Size([128, 1, 28, 28])\n",
            "5\n",
            "torch.Size([128, 1, 28, 28])\n",
            "5\n",
            "torch.Size([128, 1, 28, 28])\n",
            "5\n",
            "torch.Size([128, 1, 28, 28])\n",
            "5\n",
            "torch.Size([128, 1, 28, 28])\n",
            "5\n",
            "torch.Size([128, 1, 28, 28])\n",
            "5\n",
            "torch.Size([128, 1, 28, 28])\n",
            "5\n",
            "torch.Size([128, 1, 28, 28])\n",
            "5\n",
            "torch.Size([128, 1, 28, 28])\n",
            "5\n",
            "torch.Size([128, 1, 28, 28])\n",
            "5\n",
            "torch.Size([128, 1, 28, 28])\n",
            "5\n",
            "torch.Size([128, 1, 28, 28])\n",
            "5\n",
            "torch.Size([128, 1, 28, 28])\n",
            "5\n",
            "torch.Size([128, 1, 28, 28])\n",
            "5\n",
            "torch.Size([128, 1, 28, 28])\n",
            "5\n",
            "torch.Size([128, 1, 28, 28])\n",
            "5\n",
            "torch.Size([128, 1, 28, 28])\n",
            "5\n",
            "torch.Size([128, 1, 28, 28])\n",
            "5\n",
            "torch.Size([128, 1, 28, 28])\n",
            "5\n",
            "torch.Size([128, 1, 28, 28])\n",
            "5\n",
            "torch.Size([128, 1, 28, 28])\n",
            "5\n",
            "torch.Size([128, 1, 28, 28])\n",
            "5\n",
            "torch.Size([128, 1, 28, 28])\n",
            "5\n",
            "torch.Size([128, 1, 28, 28])\n",
            "5\n",
            "torch.Size([128, 1, 28, 28])\n",
            "5\n",
            "torch.Size([128, 1, 28, 28])\n",
            "5\n",
            "torch.Size([128, 1, 28, 28])\n",
            "5\n",
            "torch.Size([128, 1, 28, 28])\n",
            "5\n",
            "torch.Size([128, 1, 28, 28])\n",
            "5\n",
            "torch.Size([128, 1, 28, 28])\n",
            "5\n",
            "torch.Size([128, 1, 28, 28])\n",
            "5\n",
            "torch.Size([128, 1, 28, 28])\n",
            "5\n",
            "torch.Size([128, 1, 28, 28])\n",
            "5\n",
            "torch.Size([128, 1, 28, 28])\n",
            "5\n",
            "torch.Size([128, 1, 28, 28])\n",
            "5\n",
            "torch.Size([128, 1, 28, 28])\n",
            "5\n",
            "torch.Size([128, 1, 28, 28])\n",
            "5\n",
            "torch.Size([128, 1, 28, 28])\n",
            "5\n",
            "torch.Size([128, 1, 28, 28])\n",
            "5\n",
            "torch.Size([128, 1, 28, 28])\n",
            "5\n",
            "torch.Size([128, 1, 28, 28])\n",
            "5\n",
            "torch.Size([128, 1, 28, 28])\n",
            "5\n",
            "torch.Size([128, 1, 28, 28])\n",
            "5\n",
            "torch.Size([128, 1, 28, 28])\n",
            "5\n",
            "torch.Size([128, 1, 28, 28])\n",
            "5\n",
            "torch.Size([128, 1, 28, 28])\n",
            "5\n",
            "torch.Size([128, 1, 28, 28])\n",
            "5\n",
            "torch.Size([128, 1, 28, 28])\n",
            "5\n",
            "torch.Size([128, 1, 28, 28])\n",
            "5\n",
            "torch.Size([128, 1, 28, 28])\n",
            "5\n",
            "torch.Size([128, 1, 28, 28])\n",
            "5\n",
            "torch.Size([128, 1, 28, 28])\n",
            "5\n",
            "torch.Size([128, 1, 28, 28])\n",
            "5\n",
            "torch.Size([128, 1, 28, 28])\n",
            "5\n",
            "torch.Size([128, 1, 28, 28])\n",
            "5\n",
            "torch.Size([128, 1, 28, 28])\n",
            "5\n",
            "torch.Size([128, 1, 28, 28])\n",
            "5\n",
            "torch.Size([128, 1, 28, 28])\n",
            "5\n",
            "torch.Size([128, 1, 28, 28])\n",
            "5\n",
            "torch.Size([128, 1, 28, 28])\n",
            "5\n",
            "torch.Size([128, 1, 28, 28])\n",
            "5\n",
            "torch.Size([128, 1, 28, 28])\n",
            "5\n",
            "torch.Size([128, 1, 28, 28])\n",
            "5\n",
            "torch.Size([128, 1, 28, 28])\n",
            "5\n",
            "torch.Size([128, 1, 28, 28])\n",
            "5\n",
            "torch.Size([128, 1, 28, 28])\n",
            "5\n",
            "torch.Size([128, 1, 28, 28])\n",
            "5\n",
            "torch.Size([128, 1, 28, 28])\n",
            "5\n",
            "torch.Size([128, 1, 28, 28])\n",
            "5\n",
            "torch.Size([128, 1, 28, 28])\n",
            "5\n",
            "torch.Size([128, 1, 28, 28])\n",
            "5\n",
            "torch.Size([128, 1, 28, 28])\n",
            "5\n",
            "torch.Size([128, 1, 28, 28])\n",
            "5\n",
            "torch.Size([128, 1, 28, 28])\n",
            "5\n",
            "torch.Size([128, 1, 28, 28])\n",
            "5\n",
            "torch.Size([128, 1, 28, 28])\n",
            "5\n",
            "torch.Size([128, 1, 28, 28])\n",
            "5\n",
            "torch.Size([128, 1, 28, 28])\n",
            "5\n",
            "torch.Size([128, 1, 28, 28])\n",
            "5\n",
            "torch.Size([128, 1, 28, 28])\n",
            "5\n",
            "torch.Size([128, 1, 28, 28])\n",
            "5\n",
            "torch.Size([128, 1, 28, 28])\n",
            "5\n",
            "torch.Size([128, 1, 28, 28])\n",
            "5\n",
            "torch.Size([128, 1, 28, 28])\n",
            "5\n",
            "torch.Size([128, 1, 28, 28])\n",
            "5\n",
            "torch.Size([128, 1, 28, 28])\n",
            "5\n",
            "torch.Size([128, 1, 28, 28])\n",
            "5\n",
            "torch.Size([128, 1, 28, 28])\n",
            "5\n",
            "torch.Size([128, 1, 28, 28])\n",
            "5\n",
            "torch.Size([128, 1, 28, 28])\n",
            "5\n",
            "torch.Size([128, 1, 28, 28])\n",
            "5\n",
            "torch.Size([128, 1, 28, 28])\n",
            "5\n",
            "torch.Size([128, 1, 28, 28])\n",
            "5\n",
            "torch.Size([128, 1, 28, 28])\n",
            "5\n",
            "torch.Size([128, 1, 28, 28])\n",
            "5\n",
            "torch.Size([128, 1, 28, 28])\n",
            "5\n",
            "torch.Size([128, 1, 28, 28])\n",
            "5\n",
            "torch.Size([128, 1, 28, 28])\n",
            "5\n",
            "torch.Size([128, 1, 28, 28])\n",
            "5\n",
            "torch.Size([128, 1, 28, 28])\n",
            "5\n",
            "torch.Size([128, 1, 28, 28])\n",
            "5\n",
            "torch.Size([128, 1, 28, 28])\n",
            "5\n",
            "torch.Size([128, 1, 28, 28])\n",
            "5\n",
            "torch.Size([128, 1, 28, 28])\n",
            "5\n",
            "torch.Size([128, 1, 28, 28])\n",
            "5\n",
            "torch.Size([128, 1, 28, 28])\n",
            "5\n",
            "torch.Size([128, 1, 28, 28])\n",
            "5\n",
            "torch.Size([128, 1, 28, 28])\n",
            "5\n",
            "torch.Size([128, 1, 28, 28])\n",
            "5\n",
            "torch.Size([128, 1, 28, 28])\n",
            "5\n",
            "torch.Size([128, 1, 28, 28])\n",
            "5\n",
            "torch.Size([128, 1, 28, 28])\n",
            "5\n",
            "torch.Size([128, 1, 28, 28])\n",
            "5\n",
            "torch.Size([128, 1, 28, 28])\n",
            "5\n",
            "torch.Size([128, 1, 28, 28])\n",
            "5\n",
            "torch.Size([128, 1, 28, 28])\n",
            "5\n",
            "torch.Size([128, 1, 28, 28])\n",
            "5\n",
            "torch.Size([128, 1, 28, 28])\n",
            "5\n",
            "torch.Size([128, 1, 28, 28])\n",
            "5\n",
            "torch.Size([128, 1, 28, 28])\n",
            "5\n",
            "torch.Size([128, 1, 28, 28])\n",
            "5\n",
            "torch.Size([128, 1, 28, 28])\n",
            "5\n",
            "torch.Size([128, 1, 28, 28])\n",
            "5\n",
            "torch.Size([128, 1, 28, 28])\n",
            "5\n",
            "torch.Size([128, 1, 28, 28])\n",
            "5\n",
            "torch.Size([128, 1, 28, 28])\n",
            "5\n",
            "torch.Size([128, 1, 28, 28])\n",
            "5\n",
            "torch.Size([128, 1, 28, 28])\n",
            "5\n",
            "torch.Size([128, 1, 28, 28])\n",
            "5\n",
            "torch.Size([128, 1, 28, 28])\n",
            "5\n",
            "torch.Size([128, 1, 28, 28])\n",
            "5\n",
            "torch.Size([128, 1, 28, 28])\n",
            "5\n",
            "torch.Size([128, 1, 28, 28])\n",
            "5\n",
            "torch.Size([128, 1, 28, 28])\n",
            "5\n",
            "torch.Size([128, 1, 28, 28])\n",
            "5\n",
            "torch.Size([128, 1, 28, 28])\n",
            "5\n",
            "torch.Size([128, 1, 28, 28])\n",
            "5\n",
            "torch.Size([128, 1, 28, 28])\n",
            "5\n",
            "torch.Size([128, 1, 28, 28])\n",
            "5\n",
            "torch.Size([128, 1, 28, 28])\n",
            "5\n",
            "torch.Size([128, 1, 28, 28])\n",
            "5\n",
            "torch.Size([128, 1, 28, 28])\n",
            "5\n",
            "torch.Size([128, 1, 28, 28])\n",
            "5\n",
            "torch.Size([128, 1, 28, 28])\n",
            "5\n",
            "torch.Size([128, 1, 28, 28])\n",
            "5\n",
            "torch.Size([128, 1, 28, 28])\n",
            "5\n",
            "torch.Size([128, 1, 28, 28])\n",
            "5\n",
            "torch.Size([128, 1, 28, 28])\n",
            "5\n",
            "torch.Size([128, 1, 28, 28])\n",
            "5\n",
            "torch.Size([128, 1, 28, 28])\n",
            "5\n",
            "torch.Size([128, 1, 28, 28])\n",
            "5\n",
            "torch.Size([128, 1, 28, 28])\n",
            "5\n",
            "torch.Size([128, 1, 28, 28])\n",
            "5\n",
            "torch.Size([128, 1, 28, 28])\n",
            "5\n",
            "torch.Size([128, 1, 28, 28])\n",
            "5\n",
            "torch.Size([128, 1, 28, 28])\n",
            "5\n",
            "torch.Size([128, 1, 28, 28])\n",
            "5\n",
            "torch.Size([128, 1, 28, 28])\n",
            "5\n",
            "torch.Size([128, 1, 28, 28])\n",
            "5\n",
            "torch.Size([128, 1, 28, 28])\n",
            "5\n",
            "torch.Size([128, 1, 28, 28])\n",
            "5\n",
            "torch.Size([128, 1, 28, 28])\n",
            "5\n",
            "torch.Size([128, 1, 28, 28])\n",
            "5\n",
            "torch.Size([128, 1, 28, 28])\n",
            "5\n",
            "torch.Size([128, 1, 28, 28])\n",
            "5\n",
            "torch.Size([128, 1, 28, 28])\n",
            "5\n",
            "torch.Size([128, 1, 28, 28])\n",
            "5\n",
            "torch.Size([128, 1, 28, 28])\n",
            "5\n",
            "torch.Size([128, 1, 28, 28])\n",
            "5\n",
            "torch.Size([80, 1, 28, 28])\n"
          ]
        },
        {
          "output_type": "error",
          "ename": "RuntimeError",
          "evalue": "shape '[128, 784]' is invalid for input of size 62720",
          "traceback": [
            "\u001b[0;31m---------------------------------------------------------------------------\u001b[0m",
            "\u001b[0;31mRuntimeError\u001b[0m                              Traceback (most recent call last)",
            "\u001b[0;32m<ipython-input-22-2b967dd63b94>\u001b[0m in \u001b[0;36m<cell line: 1>\u001b[0;34m()\u001b[0m\n\u001b[1;32m      2\u001b[0m     \u001b[0mprint\u001b[0m\u001b[0;34m(\u001b[0m\u001b[0mlabel\u001b[0m\u001b[0;34m)\u001b[0m\u001b[0;34m\u001b[0m\u001b[0;34m\u001b[0m\u001b[0m\n\u001b[1;32m      3\u001b[0m     \u001b[0mprint\u001b[0m\u001b[0;34m(\u001b[0m\u001b[0mimages\u001b[0m\u001b[0;34m.\u001b[0m\u001b[0mshape\u001b[0m\u001b[0;34m)\u001b[0m\u001b[0;34m\u001b[0m\u001b[0;34m\u001b[0m\u001b[0m\n\u001b[0;32m----> 4\u001b[0;31m     \u001b[0mimages\u001b[0m\u001b[0;34m=\u001b[0m\u001b[0mimages\u001b[0m\u001b[0;34m.\u001b[0m\u001b[0mreshape\u001b[0m\u001b[0;34m(\u001b[0m\u001b[0;36m128\u001b[0m\u001b[0;34m,\u001b[0m\u001b[0;36m784\u001b[0m\u001b[0;34m)\u001b[0m\u001b[0;34m\u001b[0m\u001b[0;34m\u001b[0m\u001b[0m\n\u001b[0m\u001b[1;32m      5\u001b[0m     \u001b[0moutputs\u001b[0m\u001b[0;34m=\u001b[0m\u001b[0mmodel\u001b[0m\u001b[0;34m(\u001b[0m\u001b[0mimages\u001b[0m\u001b[0;34m)\u001b[0m\u001b[0;34m\u001b[0m\u001b[0;34m\u001b[0m\u001b[0m\n",
            "\u001b[0;31mRuntimeError\u001b[0m: shape '[128, 784]' is invalid for input of size 62720"
          ]
        }
      ],
      "source": [
        "for images, labels in train_dl:\n",
        "    print(label)\n",
        "    print(images.shape)\n",
        "    images=images.reshape(128,784)\n",
        "    outputs=model(images)"
      ]
    },
    {
      "cell_type": "code",
      "source": [],
      "metadata": {
        "id": "Kg1NQCoRNYgP"
      },
      "id": "Kg1NQCoRNYgP",
      "execution_count": null,
      "outputs": []
    },
    {
      "cell_type": "code",
      "execution_count": null,
      "id": "7894602c",
      "metadata": {
        "colab": {
          "base_uri": "https://localhost:8080/",
          "height": 146
        },
        "id": "7894602c",
        "outputId": "ab5e7f1b-f6a8-4914-c144-a3b9c243996d"
      },
      "outputs": [
        {
          "output_type": "error",
          "ename": "RuntimeError",
          "evalue": "shape '[128, 784]' is invalid for input of size 62720",
          "traceback": [
            "\u001b[0;31m---------------------------------------------------------------------------\u001b[0m",
            "\u001b[0;31mRuntimeError\u001b[0m                              Traceback (most recent call last)",
            "\u001b[0;32m<ipython-input-23-8b1e774d0d55>\u001b[0m in \u001b[0;36m<cell line: 1>\u001b[0;34m()\u001b[0m\n\u001b[0;32m----> 1\u001b[0;31m \u001b[0mimages\u001b[0m\u001b[0;34m.\u001b[0m\u001b[0mreshape\u001b[0m\u001b[0;34m(\u001b[0m\u001b[0;36m128\u001b[0m\u001b[0;34m,\u001b[0m\u001b[0;36m784\u001b[0m\u001b[0;34m)\u001b[0m\u001b[0;34m.\u001b[0m\u001b[0mshape\u001b[0m\u001b[0;34m\u001b[0m\u001b[0;34m\u001b[0m\u001b[0m\n\u001b[0m",
            "\u001b[0;31mRuntimeError\u001b[0m: shape '[128, 784]' is invalid for input of size 62720"
          ]
        }
      ],
      "source": [
        "images.reshape(128,784).shape"
      ]
    },
    {
      "cell_type": "markdown",
      "source": [],
      "metadata": {
        "id": "XHT6xIgfMjvw"
      },
      "id": "XHT6xIgfMjvw"
    },
    {
      "cell_type": "code",
      "source": [],
      "metadata": {
        "id": "4aL-kqecrLM7"
      },
      "id": "4aL-kqecrLM7",
      "execution_count": null,
      "outputs": []
    },
    {
      "cell_type": "code",
      "execution_count": null,
      "id": "3dff50ce",
      "metadata": {
        "scrolled": true,
        "colab": {
          "base_uri": "https://localhost:8080/"
        },
        "id": "3dff50ce",
        "outputId": "924bb171-c794-4d33-a7f9-375224845488"
      },
      "outputs": [
        {
          "output_type": "execute_result",
          "data": {
            "text/plain": [
              "Linear(in_features=784, out_features=10, bias=True)"
            ]
          },
          "metadata": {},
          "execution_count": 24
        }
      ],
      "source": [
        "class MnistModel(nn.Module):\n",
        "    def __init__(self):\n",
        "        super().__init__()\n",
        "        self.linear=nn.Linear(input_size,num_classes)\n",
        "    def forward(self,xa):\n",
        "        xa=xa.reshape(-1,784)\n",
        "        out=self.linear(xa)\n",
        "        return out\n",
        "model=MnistModel()\n",
        "model.linear\n",
        "#constructor function defines the layers. In the forward function\n",
        "#preprocessing like reshaping is done and passed through layers\n",
        "\n"
      ]
    },
    {
      "cell_type": "code",
      "execution_count": null,
      "id": "1d9446a5",
      "metadata": {
        "colab": {
          "base_uri": "https://localhost:8080/"
        },
        "id": "1d9446a5",
        "outputId": "266d23b6-02c6-49ea-eaa6-33ddd54497b9"
      },
      "outputs": [
        {
          "output_type": "stream",
          "name": "stdout",
          "text": [
            "torch.Size([10, 784])\n"
          ]
        }
      ],
      "source": [
        "print(model.linear.weight.shape)"
      ]
    },
    {
      "cell_type": "code",
      "execution_count": null,
      "id": "7621ff3a",
      "metadata": {
        "colab": {
          "base_uri": "https://localhost:8080/"
        },
        "id": "7621ff3a",
        "outputId": "8465659b-5470-49de-9ea9-123b3bfa9422"
      },
      "outputs": [
        {
          "output_type": "stream",
          "name": "stdout",
          "text": [
            "torch.Size([128, 1, 28, 28])\n",
            "torch.Size([128, 10])\n",
            "tensor([[-0.0102, -0.4353, -0.0321, -0.2391, -0.2240, -0.2864, -0.1059, -0.6812,\n",
            "         -0.1694,  0.3055],\n",
            "        [-0.0424, -0.2690, -0.2344,  0.1672, -0.0810,  0.1304,  0.1596, -0.2027,\n",
            "         -0.1055,  0.2218]])\n"
          ]
        }
      ],
      "source": [
        "for images,label in train_dl:\n",
        "    print(images.shape)\n",
        "    outputs=model(images)\n",
        "    break\n",
        "print(outputs.shape)\n",
        "print(outputs[:2].data)"
      ]
    },
    {
      "cell_type": "code",
      "execution_count": null,
      "id": "9dad4d76",
      "metadata": {
        "id": "9dad4d76"
      },
      "outputs": [],
      "source": [
        "import torch.nn.functional as F"
      ]
    },
    {
      "cell_type": "code",
      "execution_count": null,
      "id": "3a3d3196",
      "metadata": {
        "id": "3a3d3196"
      },
      "outputs": [],
      "source": [
        "probs=F.softmax(outputs, dim=1)"
      ]
    },
    {
      "cell_type": "code",
      "execution_count": null,
      "id": "7302b945",
      "metadata": {
        "colab": {
          "base_uri": "https://localhost:8080/"
        },
        "id": "7302b945",
        "outputId": "992050cb-dab2-42c5-e177-3071367f06fd"
      },
      "outputs": [
        {
          "output_type": "stream",
          "name": "stdout",
          "text": [
            "tensor([[0.1158, 0.0757, 0.1133, 0.0921, 0.0935, 0.0878, 0.1052, 0.0592, 0.0987,\n",
            "         0.1587]])\n"
          ]
        }
      ],
      "source": [
        "print(probs[:1].data)"
      ]
    },
    {
      "cell_type": "code",
      "execution_count": null,
      "id": "1f1960ad",
      "metadata": {
        "colab": {
          "base_uri": "https://localhost:8080/"
        },
        "id": "1f1960ad",
        "outputId": "f166067f-a138-45fe-f4d1-aef55a83b89f"
      },
      "outputs": [
        {
          "output_type": "stream",
          "name": "stdout",
          "text": [
            "tensor(1.0000, grad_fn=<SumBackward0>)\n"
          ]
        }
      ],
      "source": [
        "print(torch.sum(probs[:1]))"
      ]
    },
    {
      "cell_type": "code",
      "execution_count": null,
      "id": "bfe05c13",
      "metadata": {
        "colab": {
          "base_uri": "https://localhost:8080/"
        },
        "id": "bfe05c13",
        "outputId": "a5439cc9-3fcc-429c-b140-ce2314b9e50d"
      },
      "outputs": [
        {
          "output_type": "stream",
          "name": "stdout",
          "text": [
            "tensor([0.1587, 0.1262, 0.1474, 0.1311, 0.1811, 0.1918, 0.1575, 0.1400, 0.2075,\n",
            "        0.1253, 0.1239, 0.1248, 0.1269, 0.1277, 0.1197, 0.1732, 0.1260, 0.1575,\n",
            "        0.1258, 0.1296, 0.1246, 0.1260, 0.1438, 0.1377, 0.1174, 0.1377, 0.1426,\n",
            "        0.1173, 0.1212, 0.1374, 0.1640, 0.1348, 0.1385, 0.1310, 0.1365, 0.1275,\n",
            "        0.1212, 0.1462, 0.1455, 0.1369, 0.1840, 0.1659, 0.1276, 0.1401, 0.1240,\n",
            "        0.1410, 0.1634, 0.1217, 0.1174, 0.1186, 0.1703, 0.1360, 0.1524, 0.1225,\n",
            "        0.1669, 0.1476, 0.1351, 0.1721, 0.1237, 0.1126, 0.1556, 0.1730, 0.1455,\n",
            "        0.1125, 0.1377, 0.1394, 0.1241, 0.1504, 0.1151, 0.1118, 0.1318, 0.1231,\n",
            "        0.1353, 0.1423, 0.1383, 0.1267, 0.1174, 0.1355, 0.1656, 0.1218, 0.1294,\n",
            "        0.1431, 0.1397, 0.1157, 0.1228, 0.2548, 0.1535, 0.1577, 0.1634, 0.1740,\n",
            "        0.1428, 0.1252, 0.1334, 0.1220, 0.1451, 0.1389, 0.1632, 0.1265, 0.1478,\n",
            "        0.1322, 0.1719, 0.1200, 0.1497, 0.1115, 0.1320, 0.1348, 0.1260, 0.1293,\n",
            "        0.1464, 0.1186, 0.1357, 0.1247, 0.1608, 0.1366, 0.1452, 0.1424, 0.1253,\n",
            "        0.1327, 0.2032, 0.1595, 0.1900, 0.1429, 0.1427, 0.1246, 0.1319, 0.1268,\n",
            "        0.1464, 0.1361], grad_fn=<MaxBackward0>)\n",
            "tensor([9, 9, 9, 6, 9, 9, 9, 3, 9, 3, 9, 9, 9, 3, 9, 9, 6, 9, 9, 8, 6, 9, 9, 9,\n",
            "        3, 9, 9, 6, 0, 2, 9, 9, 9, 3, 9, 9, 0, 9, 9, 9, 9, 9, 6, 9, 9, 9, 9, 5,\n",
            "        0, 3, 9, 9, 9, 9, 9, 6, 9, 9, 9, 0, 9, 9, 9, 9, 9, 9, 6, 2, 3, 6, 9, 7,\n",
            "        9, 3, 9, 6, 9, 9, 9, 9, 9, 9, 9, 0, 6, 9, 9, 9, 9, 9, 9, 9, 9, 3, 9, 9,\n",
            "        9, 9, 9, 0, 9, 9, 9, 2, 9, 9, 9, 6, 9, 3, 9, 6, 9, 9, 9, 9, 9, 9, 9, 9,\n",
            "        9, 9, 9, 6, 9, 3, 9, 0])\n"
          ]
        }
      ],
      "source": [
        "max_probs,preds=torch.max(probs,dim=1)\n",
        "print(max_probs)\n",
        "print(preds)"
      ]
    },
    {
      "cell_type": "code",
      "execution_count": null,
      "id": "854a66b0",
      "metadata": {
        "colab": {
          "base_uri": "https://localhost:8080/"
        },
        "id": "854a66b0",
        "outputId": "939fac2d-d456-41cd-9da8-74f1978f57f5"
      },
      "outputs": [
        {
          "output_type": "stream",
          "name": "stdout",
          "text": [
            "tensor([0, 1, 6, 9, 2, 3, 3, 6, 0, 2, 7, 6, 1, 0, 6, 5, 1, 6, 4, 4, 2, 1, 0, 1,\n",
            "        9, 0, 8, 4, 5, 0, 3, 1, 8, 0, 9, 3, 1, 4, 1, 8, 3, 7, 5, 6, 4, 8, 8, 5,\n",
            "        1, 6, 5, 0, 1, 4, 3, 8, 3, 0, 0, 6, 1, 3, 8, 6, 5, 1, 9, 0, 7, 6, 3, 4,\n",
            "        1, 9, 3, 4, 7, 1, 3, 7, 7, 0, 2, 1, 5, 3, 0, 5, 2, 3, 2, 2, 6, 5, 1, 2,\n",
            "        8, 9, 1, 0, 8, 4, 2, 2, 6, 9, 5, 9, 5, 5, 0, 6, 0, 9, 2, 0, 1, 5, 3, 0,\n",
            "        3, 5, 5, 5, 3, 6, 2, 6])\n"
          ]
        }
      ],
      "source": [
        "print(label)"
      ]
    },
    {
      "cell_type": "code",
      "execution_count": null,
      "id": "e314a235",
      "metadata": {
        "id": "e314a235"
      },
      "outputs": [],
      "source": [
        "def accuracy(outputs,labels):\n",
        "    _,preds=torch.max(outputs,dim=1)\n",
        "    return torch.tensor(torch.sum(labels==preds).item()/len(preds))"
      ]
    },
    {
      "cell_type": "code",
      "execution_count": null,
      "id": "d7de5644",
      "metadata": {
        "colab": {
          "base_uri": "https://localhost:8080/"
        },
        "id": "d7de5644",
        "outputId": "8fecffc6-a6e1-44fb-82bd-0e4810ef5877"
      },
      "outputs": [
        {
          "output_type": "execute_result",
          "data": {
            "text/plain": [
              "tensor(0.0703)"
            ]
          },
          "metadata": {},
          "execution_count": 34
        }
      ],
      "source": [
        "accuracy(outputs,label)"
      ]
    },
    {
      "cell_type": "markdown",
      "id": "8decf267",
      "metadata": {
        "id": "8decf267"
      },
      "source": [
        "Cross entropy is the loss function used for clasification problems"
      ]
    },
    {
      "cell_type": "code",
      "execution_count": null,
      "id": "d6e17b31",
      "metadata": {
        "colab": {
          "base_uri": "https://localhost:8080/",
          "height": 238
        },
        "id": "d6e17b31",
        "outputId": "8ba38d5c-388b-48d0-8b38-b153e5ee6401"
      },
      "outputs": [
        {
          "output_type": "error",
          "ename": "AttributeError",
          "evalue": "'function' object has no attribute 'backward'",
          "traceback": [
            "\u001b[0;31m---------------------------------------------------------------------------\u001b[0m",
            "\u001b[0;31mAttributeError\u001b[0m                            Traceback (most recent call last)",
            "\u001b[0;32m<ipython-input-35-c0b9afcc67ca>\u001b[0m in \u001b[0;36m<cell line: 1>\u001b[0;34m()\u001b[0m\n\u001b[0;32m----> 1\u001b[0;31m \u001b[0maccuracy\u001b[0m\u001b[0;34m.\u001b[0m\u001b[0mbackward\u001b[0m\u001b[0;34m(\u001b[0m\u001b[0;34m)\u001b[0m\u001b[0;34m\u001b[0m\u001b[0;34m\u001b[0m\u001b[0m\n\u001b[0m\u001b[1;32m      2\u001b[0m '''accuracy is not a loss function this is beacause if a model predicts\n\u001b[1;32m      3\u001b[0m \u001b[0mwrong\u001b[0m \u001b[0;32mand\u001b[0m \u001b[0mcrt\u001b[0m \u001b[0mlabel\u001b[0m \u001b[0;32mis\u001b[0m \u001b[0;36m5\u001b[0m \u001b[0mthe\u001b[0m \u001b[0mmodel\u001b[0m \u001b[0mprobs\u001b[0m \u001b[0;32mis\u001b[0m \u001b[0;36m0.2\u001b[0m \u001b[0manother\u001b[0m \u001b[0mmodel\u001b[0m \u001b[0;32mis\u001b[0m \u001b[0mmrong\u001b[0m \u001b[0mbut\u001b[0m \u001b[0mhas\u001b[0m \u001b[0mprobs\u001b[0m \u001b[0;36m0\u001b[0m\u001b[0;34m,\u001b[0m\u001b[0;36m5\u001b[0m\u001b[0;34m>\u001b[0m \u001b[0mhowever\u001b[0m \u001b[0mboth\u001b[0m \u001b[0mmodels\u001b[0m \u001b[0mare\u001b[0m \u001b[0mwrong\u001b[0m\u001b[0;34m\u001b[0m\u001b[0;34m\u001b[0m\u001b[0m\n\u001b[1;32m      4\u001b[0m \u001b[0mbut\u001b[0m \u001b[0mmodel\u001b[0m \u001b[0;36m2\u001b[0m \u001b[0;32mis\u001b[0m \u001b[0mcertainly\u001b[0m \u001b[0mbetter\u001b[0m \u001b[0mthan\u001b[0m \u001b[0mmodel\u001b[0m \u001b[0;36m1\u001b[0m \u001b[0mAcucuracy\u001b[0m \u001b[0mdoesn\u001b[0m\u001b[0;34m't take this into account'\u001b[0m\u001b[0;34m''\u001b[0m\u001b[0;34m\u001b[0m\u001b[0;34m\u001b[0m\u001b[0m\n",
            "\u001b[0;31mAttributeError\u001b[0m: 'function' object has no attribute 'backward'"
          ]
        }
      ],
      "source": [
        "accuracy.backward()\n",
        "'''accuracy is not a loss function this is beacause if a model predicts\n",
        "wrong and crt label is 5 the model probs is 0.2 another model is mrong but has probs 0,5> however both models are wrong\n",
        "but model 2 is certainly better than model 1 Acucuracy doesn't take this into account'''"
      ]
    },
    {
      "cell_type": "code",
      "execution_count": null,
      "id": "0cb5f2fb",
      "metadata": {
        "id": "0cb5f2fb"
      },
      "outputs": [],
      "source": [
        "import torch.nn.functional as F"
      ]
    },
    {
      "cell_type": "code",
      "execution_count": null,
      "id": "622c14fb",
      "metadata": {
        "id": "622c14fb"
      },
      "outputs": [],
      "source": [
        "loss_fn=F.cross_entropy"
      ]
    },
    {
      "cell_type": "code",
      "execution_count": null,
      "id": "081a16c8",
      "metadata": {
        "id": "081a16c8",
        "outputId": "c7153f4b-aaaa-43b2-b17e-e0e8280e4edf",
        "colab": {
          "base_uri": "https://localhost:8080/"
        }
      },
      "outputs": [
        {
          "output_type": "stream",
          "name": "stdout",
          "text": [
            "tensor(2.3173, grad_fn=<NllLossBackward0>)\n"
          ]
        }
      ],
      "source": [
        "loss=loss_fn(outputs,label)\n",
        "print(loss)"
      ]
    },
    {
      "cell_type": "markdown",
      "id": "e10e4095",
      "metadata": {
        "id": "e10e4095"
      },
      "source": [
        "So forward pass means computing prediction after feeding it to model. Then we compute loss using cross_entropy and we compute the weights and bias gradients wrt to loss. Using optimization tools like here SGD we updated the values of weight by subtracting it from gradients of loss wrt weights and bias.\n",
        "examples of optimization functions are SGD,Adam"
      ]
    },
    {
      "cell_type": "markdown",
      "id": "7a585196",
      "metadata": {
        "id": "7a585196"
      },
      "source": [
        "What are hyperparameters. They are which that can be controlled by the programmer like learning rate, Batchsize,\n",
        "no of epochs, optimization function, Activation function\n",
        "choosing appropriate hyperparameters is imp for accuracy"
      ]
    },
    {
      "cell_type": "markdown",
      "id": "70b7cc18",
      "metadata": {
        "id": "70b7cc18"
      },
      "source": [
        "What are activation functions--they introduce non-linearity in model so that\n",
        "model can learn from complex patterns example sigmoid for binary data\n",
        "RELU"
      ]
    },
    {
      "cell_type": "code",
      "execution_count": null,
      "id": "338df253",
      "metadata": {
        "id": "338df253"
      },
      "outputs": [],
      "source": [
        "def fit(epochs,lr,model,train_dl,val_dl):\n",
        "    history=[]\n",
        "    opt=torch.optim.SGD(model.parameters(),lr)\n",
        "    for epoch in range(epochs):\n",
        "        for batch in train_dl:\n",
        "            loss=model.training_step(batch)\n",
        "            loss.backward()\n",
        "            opt.step()\n",
        "            opt.zero_grad()\n",
        "    #validation phase\n",
        "        result=evaluate(model,val_dl)\n",
        "        model.epoch_end(epoch,result)\n",
        "        history.append(result)\n",
        "    return history"
      ]
    },
    {
      "cell_type": "code",
      "execution_count": null,
      "id": "a3ca28ab",
      "metadata": {
        "id": "a3ca28ab"
      },
      "outputs": [],
      "source": [
        "def evaluate(model, val_dl):\n",
        "    output=[model.validation_step(batch) for batch in val_dl]\n",
        "    return model.validation_epoch_end(output)"
      ]
    },
    {
      "cell_type": "code",
      "execution_count": null,
      "id": "f8314cb9",
      "metadata": {
        "id": "f8314cb9"
      },
      "outputs": [],
      "source": [
        "class MnistModel(nn.Module):\n",
        "    def __init__(self):\n",
        "        super().__init__()\n",
        "        self.linear=nn.Linear(input_size,num_classes)\n",
        "    def forward(self,xb):\n",
        "        xb=xb.reshape(-1,784)\n",
        "        out=self.linear(xb)\n",
        "        return out\n",
        "    def training_step(self,batch):\n",
        "        images,labels=batch\n",
        "        out=self(images)\n",
        "        loss=loss_fn(out,labels)\n",
        "        return loss\n",
        "    def validation_step(self,batch):\n",
        "        images,labels=batch\n",
        "        out=self(images)\n",
        "        loss=loss_fn(out,labels)\n",
        "        acc=accuracy(out,labels)\n",
        "        return {'val_loss':loss,'val_acc':acc}\n",
        "    def validation_epoch_end(self,output):\n",
        "        batch_loss=[x['val_loss'] for x in output]\n",
        "        epoch_loss=torch.stack(batch_loss).mean()\n",
        "        batch_acc=[x['val_acc'] for x in output]\n",
        "        epoch_acc=torch.stack(batch_acc).mean()\n",
        "        return {'val_loss':epoch_loss.item(), 'val_acc':epoch_acc.item()}\n",
        "    def epoch_end(self,epoch,result):\n",
        "        print(\"Epoch [{}], val_loss:{:.4f}, val_acc:{:.4f}\".format(epoch,result['val_loss'],result['val_acc']))\n",
        "model=MnistModel()"
      ]
    },
    {
      "cell_type": "code",
      "execution_count": null,
      "id": "f129c4fc",
      "metadata": {
        "colab": {
          "base_uri": "https://localhost:8080/"
        },
        "id": "f129c4fc",
        "outputId": "a0a71995-4a2a-4984-b816-f9a02c748658"
      },
      "outputs": [
        {
          "output_type": "execute_result",
          "data": {
            "text/plain": [
              "{'val_loss': 2.3112761974334717, 'val_acc': 0.11540743708610535}"
            ]
          },
          "metadata": {},
          "execution_count": 41
        }
      ],
      "source": [
        "result0=evaluate(model, val_dl)\n",
        "result0"
      ]
    },
    {
      "cell_type": "code",
      "execution_count": null,
      "id": "3b3de3ba",
      "metadata": {
        "colab": {
          "base_uri": "https://localhost:8080/"
        },
        "id": "3b3de3ba",
        "outputId": "368b4b16-9ea8-4416-84e2-bf6ca1ca739c"
      },
      "outputs": [
        {
          "output_type": "stream",
          "name": "stdout",
          "text": [
            "Epoch [0], val_loss:1.9335, val_acc:0.6372\n",
            "Epoch [1], val_loss:1.6628, val_acc:0.7349\n",
            "Epoch [2], val_loss:1.4617, val_acc:0.7724\n",
            "[{'val_loss': 1.9334673881530762, 'val_acc': 0.6371637582778931}, {'val_loss': 1.6627564430236816, 'val_acc': 0.7348694801330566}, {'val_loss': 1.4616894721984863, 'val_acc': 0.7724485993385315}]\n"
          ]
        }
      ],
      "source": [
        "history1=fit(3,0.001,model,train_dl,val_dl)\n",
        "print(history1)"
      ]
    },
    {
      "cell_type": "code",
      "execution_count": null,
      "id": "bd738fbc",
      "metadata": {
        "colab": {
          "base_uri": "https://localhost:8080/"
        },
        "id": "bd738fbc",
        "outputId": "84043c8f-1914-4d02-a125-d890a429eefa"
      },
      "outputs": [
        {
          "output_type": "stream",
          "name": "stdout",
          "text": [
            "Epoch [0], val_loss:1.3101, val_acc:0.7920\n",
            "Epoch [1], val_loss:1.1937, val_acc:0.8043\n",
            "Epoch [2], val_loss:1.1024, val_acc:0.8142\n",
            "Epoch [3], val_loss:1.0291, val_acc:0.8207\n",
            "Epoch [4], val_loss:0.9692, val_acc:0.8260\n"
          ]
        }
      ],
      "source": [
        "history2=fit(5,0.001,model,train_dl,val_dl)\n"
      ]
    },
    {
      "cell_type": "code",
      "execution_count": null,
      "id": "b1109edf",
      "metadata": {
        "colab": {
          "base_uri": "https://localhost:8080/"
        },
        "id": "b1109edf",
        "outputId": "1e0a6052-2d9a-46ef-dbf3-5018afa3a8ea"
      },
      "outputs": [
        {
          "output_type": "stream",
          "name": "stdout",
          "text": [
            "Epoch [0], val_loss:0.9193, val_acc:0.8310\n",
            "Epoch [1], val_loss:0.8773, val_acc:0.8354\n",
            "Epoch [2], val_loss:0.8412, val_acc:0.8387\n",
            "Epoch [3], val_loss:0.8100, val_acc:0.8407\n",
            "Epoch [4], val_loss:0.7827, val_acc:0.8439\n"
          ]
        }
      ],
      "source": [
        "history3=fit(5,0.001,model,train_dl,val_dl)\n"
      ]
    },
    {
      "cell_type": "code",
      "execution_count": null,
      "id": "5800f9fd",
      "metadata": {
        "colab": {
          "base_uri": "https://localhost:8080/"
        },
        "id": "5800f9fd",
        "outputId": "c7d75f2a-569f-4bef-a077-a6f8113aedf9"
      },
      "outputs": [
        {
          "output_type": "stream",
          "name": "stdout",
          "text": [
            "Epoch [0], val_loss:0.7585, val_acc:0.8473\n",
            "Epoch [1], val_loss:0.7371, val_acc:0.8501\n",
            "Epoch [2], val_loss:0.7178, val_acc:0.8524\n",
            "Epoch [3], val_loss:0.7005, val_acc:0.8535\n",
            "Epoch [4], val_loss:0.6847, val_acc:0.8554\n"
          ]
        }
      ],
      "source": [
        "history4=fit(5,0.001,model,train_dl,val_dl)\n"
      ]
    },
    {
      "cell_type": "code",
      "execution_count": null,
      "id": "649329cd",
      "metadata": {
        "colab": {
          "base_uri": "https://localhost:8080/"
        },
        "id": "649329cd",
        "outputId": "54d7084e-b69b-47d1-9619-a8af7213420d"
      },
      "outputs": [
        {
          "output_type": "stream",
          "name": "stdout",
          "text": [
            "[{'val_loss': 0.7585384249687195, 'val_acc': 0.8473101258277893}, {'val_loss': 0.737051784992218, 'val_acc': 0.8500791192054749}, {'val_loss': 0.7177978157997131, 'val_acc': 0.8523536324501038}, {'val_loss': 0.7004569172859192, 'val_acc': 0.8535403609275818}, {'val_loss': 0.6847367882728577, 'val_acc': 0.8554192781448364}]\n"
          ]
        }
      ],
      "source": [
        "print(history4)"
      ]
    },
    {
      "cell_type": "code",
      "execution_count": null,
      "id": "6f358dda",
      "metadata": {
        "colab": {
          "base_uri": "https://localhost:8080/",
          "height": 490
        },
        "id": "6f358dda",
        "outputId": "ee256538-9529-4126-c8c4-303aeb55ba90"
      },
      "outputs": [
        {
          "output_type": "execute_result",
          "data": {
            "text/plain": [
              "Text(0.5, 1.0, 'Accuracy vs no of epochs')"
            ]
          },
          "metadata": {},
          "execution_count": 47
        },
        {
          "output_type": "display_data",
          "data": {
            "text/plain": [
              "<Figure size 640x480 with 1 Axes>"
            ],
            "image/png": "[encoded data removed]"
          },
          "metadata": {}
        }
      ],
      "source": [
        "history=[result0]+history1+history2+history3+history4\n",
        "accuracies=[result['val_acc'] for result in history]\n",
        "plt.plot(accuracies,'-x')\n",
        "plt.xlabel('epoch')\n",
        "plt.ylabel('accuracy')\n",
        "plt.title('Accuracy vs no of epochs')"
      ]
    },
    {
      "cell_type": "code",
      "execution_count": null,
      "id": "59265c3d",
      "metadata": {
        "id": "59265c3d"
      },
      "outputs": [],
      "source": [
        "test_ds=MNIST(root='data/',train=False,transform=transforms.ToTensor())"
      ]
    },
    {
      "cell_type": "code",
      "execution_count": null,
      "id": "f0839edd",
      "metadata": {
        "id": "f0839edd",
        "colab": {
          "base_uri": "https://localhost:8080/"
        },
        "outputId": "18cdd0a3-6f5b-4266-9c44-c413d05d970d"
      },
      "outputs": [
        {
          "output_type": "execute_result",
          "data": {
            "text/plain": [
              "{'val_loss': 0.6650567054748535, 'val_acc': 0.8570312261581421}"
            ]
          },
          "metadata": {},
          "execution_count": 67
        }
      ],
      "source": [
        "batch_size=256\n",
        "test_dl=DataLoader(test_ds,batch_size)\n",
        "result=evaluate(model,test_dl)\n",
        "result\n",
        "\n",
        "#if testset accuracy is very low compared to that of validation set bad v\n",
        "#validation set bcs test set represents real world and validation should be closer to real"
      ]
    },
    {
      "cell_type": "code",
      "source": [
        "!pip install jovian --upgrade --quiet63524\\"
      ],
      "metadata": {
        "id": "aLhvXQ5vsxtA"
      },
      "id": "aLhvXQ5vsxtA",
      "execution_count": null,
      "outputs": []
    },
    {
      "cell_type": "code",
      "source": [
        "import jovian"
      ],
      "metadata": {
        "id": "tcd5heuPu9OV"
      },
      "id": "tcd5heuPu9OV",
      "execution_count": null,
      "outputs": []
    },
    {
      "cell_type": "code",
      "execution_count": null,
      "id": "c065b278",
      "metadata": {
        "colab": {
          "base_uri": "https://localhost:8080/"
        },
        "id": "c065b278",
        "outputId": "e6d8f046-9d96-4574-cf6e-420ea0742bfc"
      },
      "outputs": [
        {
          "output_type": "stream",
          "name": "stdout",
          "text": [
            "[jovian] Please enter your API key ( from https://jovian.com/ ):\u001b[0m\n",
            "API KEY: ··········\n",
            "[jovian] Metrics logged.\u001b[0m\n"
          ]
        }
      ],
      "source": [
        "jovian.log_metrics(val_acc=history[-1]['val_acc'], val_loss=history[-1]['val_acc'])\n"
      ]
    },
    {
      "cell_type": "code",
      "source": [
        "from google.colab import drive\n",
        "drive.mount('/content/drive')"
      ],
      "metadata": {
        "colab": {
          "base_uri": "https://localhost:8080/"
        },
        "id": "BFArSosmv5o8",
        "outputId": "452759e5-cc97-424f-bf62-c7e83754c524"
      },
      "id": "BFArSosmv5o8",
      "execution_count": null,
      "outputs": [
        {
          "output_type": "stream",
          "name": "stdout",
          "text": [
            "Mounted at /content/drive\n"
          ]
        }
      ]
    },
    {
      "cell_type": "code",
      "execution_count": null,
      "id": "c3aef942",
      "metadata": {
        "id": "c3aef942",
        "colab": {
          "base_uri": "https://localhost:8080/"
        },
        "outputId": "25357f73-1d09-47b1-f9bb-102afe7675e0"
      },
      "outputs": [
        {
          "output_type": "stream",
          "name": "stdout",
          "text": [
            "[jovian] Detected Colab notebook...\u001b[0m\n",
            "[jovian] jovian.commit() is no longer required on Google Colab. If you ran this notebook from Jovian, \n",
            "then just save this file in Colab using Ctrl+S/Cmd+S and it will be updated on Jovian. \n",
            "Also, you can also delete this cell, it's no longer necessary.\u001b[0m\n"
          ]
        }
      ],
      "source": [
        "jovian.commit(project='03-logistic-regression',environment=None)"
      ]
    },
    {
      "cell_type": "code",
      "execution_count": null,
      "id": "97c2434e",
      "metadata": {
        "id": "97c2434e",
        "colab": {
          "base_uri": "https://localhost:8080/",
          "height": 466
        },
        "outputId": "b28d6066-adab-47d8-a646-e2bde424ddb8"
      },
      "outputs": [
        {
          "output_type": "display_data",
          "data": {
            "text/plain": [
              "<Figure size 640x480 with 1 Axes>"
            ],
            "image/png": "[encoded data removed]"
          },
          "metadata": {}
        },
        {
          "output_type": "stream",
          "name": "stdout",
          "text": [
            "torch.Size([1, 28, 28])\n",
            "7\n"
          ]
        }
      ],
      "source": [
        "img,label=test_ds[0]\n",
        "plt.imshow(img[0],cmap='gray')\n",
        "plt.show()\n",
        "print(img.shape)\n",
        "print(label)\n"
      ]
    },
    {
      "cell_type": "code",
      "execution_count": null,
      "id": "a4d3e06a",
      "metadata": {
        "id": "a4d3e06a",
        "colab": {
          "base_uri": "https://localhost:8080/"
        },
        "outputId": "4170f642-0f49-4626-8676-818e557c0d03"
      },
      "outputs": [
        {
          "output_type": "execute_result",
          "data": {
            "text/plain": [
              "torch.Size([1, 1, 28, 28])"
            ]
          },
          "metadata": {},
          "execution_count": 90
        }
      ],
      "source": [
        "img.unsqueeze(0).shape"
      ]
    },
    {
      "cell_type": "code",
      "execution_count": null,
      "id": "8fb65d01",
      "metadata": {
        "id": "8fb65d01"
      },
      "outputs": [],
      "source": [
        "def predict_img(img,model):\n",
        "    xb=img.reshape(-1,784)\n",
        "    yb=model(xb)\n",
        "    _,preds=torch.max(yb,dim=1)\n",
        "    return preds[0].item()#extracts number from the tensor"
      ]
    },
    {
      "cell_type": "code",
      "execution_count": null,
      "id": "211c8fc8",
      "metadata": {
        "scrolled": true,
        "id": "211c8fc8"
      },
      "outputs": [],
      "source": [
        "img,label=test_ds[0]\n",
        "plt.imshow(img[0],cmap='gray')\n",
        "plt.show()\n",
        "print(\"Label is\",label)\n",
        "predict_img(img,model)"
      ]
    },
    {
      "cell_type": "code",
      "execution_count": null,
      "id": "0b41143b",
      "metadata": {
        "id": "0b41143b"
      },
      "outputs": [],
      "source": [
        "img,label=test_ds[100]\n",
        "plt.imshow(img[0],cmap='gray')\n",
        "plt.show()\n",
        "print(\"Label is\",label)\n",
        "predict_img(img,model)"
      ]
    },
    {
      "cell_type": "code",
      "execution_count": null,
      "id": "e76f3156",
      "metadata": {
        "id": "e76f3156"
      },
      "outputs": [],
      "source": [
        "img,label=test_ds[999]\n",
        "plt.imshow(img[0],cmap='gray')\n",
        "plt.show()\n",
        "print(\"Label is\",label)\n",
        "predict_img(img,model)"
      ]
    },
    {
      "cell_type": "code",
      "execution_count": null,
      "id": "b02258c1",
      "metadata": {
        "id": "b02258c1"
      },
      "outputs": [],
      "source": [
        "img,label=test_ds[3000]\n",
        "plt.imshow(img[0],cmap='gray')\n",
        "plt.show()\n",
        "print(\"Label is\",label)\n",
        "predict_img(img,model)"
      ]
    },
    {
      "cell_type": "code",
      "execution_count": null,
      "id": "1ffbfe58",
      "metadata": {
        "id": "1ffbfe58"
      },
      "outputs": [],
      "source": [
        "len(test_ds)"
      ]
    },
    {
      "cell_type": "markdown",
      "source": [
        "Saving and loading the model\n"
      ],
      "metadata": {
        "id": "lCxc3GoN1tO7"
      },
      "id": "lCxc3GoN1tO7"
    },
    {
      "cell_type": "code",
      "execution_count": null,
      "id": "ebf88942",
      "metadata": {
        "id": "ebf88942"
      },
      "outputs": [],
      "source": [
        "torch.save(model.state_dict,'mnist-logistic.pth')"
      ]
    },
    {
      "cell_type": "code",
      "execution_count": null,
      "id": "1c75d1e7",
      "metadata": {
        "id": "1c75d1e7",
        "colab": {
          "base_uri": "https://localhost:8080/"
        },
        "outputId": "6556d269-af71-4d7c-c826-5bf5ad3b48dd"
      },
      "outputs": [
        {
          "output_type": "execute_result",
          "data": {
            "text/plain": [
              "odict_keys(['linear.weight', 'linear.bias'])"
            ]
          },
          "metadata": {},
          "execution_count": 105
        }
      ],
      "source": [
        "model.state_dict().keys()"
      ]
    },
    {
      "cell_type": "code",
      "source": [],
      "metadata": {
        "id": "99zRdCC9Qrcb"
      },
      "id": "99zRdCC9Qrcb",
      "execution_count": null,
      "outputs": []
    },
    {
      "cell_type": "code",
      "execution_count": null,
      "id": "d4b2323e",
      "metadata": {
        "id": "d4b2323e"
      },
      "outputs": [],
      "source": [
        "model2=MnistModel()"
      ]
    },
    {
      "cell_type": "code",
      "execution_count": null,
      "id": "5ec174c3",
      "metadata": {
        "id": "5ec174c3",
        "colab": {
          "base_uri": "https://localhost:8080/"
        },
        "outputId": "95551f80-f038-45d9-8d56-be6739801089"
      },
      "outputs": [
        {
          "output_type": "execute_result",
          "data": {
            "text/plain": [
              "odict_keys(['linear.weight', 'linear.bias'])"
            ]
          },
          "metadata": {},
          "execution_count": 104
        }
      ],
      "source": [
        "model2.state_dict().keys()"
      ]
    },
    {
      "cell_type": "code",
      "source": [
        "model2.load_state_dict(torch.load('mnist-logistic.pth'))\n"
      ],
      "metadata": {
        "colab": {
          "base_uri": "https://localhost:8080/",
          "height": 311
        },
        "id": "i4dYXlMj7m4a",
        "outputId": "5ff11831-eb95-4b19-ed38-a107e60b5d93"
      },
      "id": "i4dYXlMj7m4a",
      "execution_count": null,
      "outputs": [
        {
          "output_type": "error",
          "ename": "TypeError",
          "evalue": "Expected state_dict to be dict-like, got <class 'method'>.",
          "traceback": [
            "\u001b[0;31m---------------------------------------------------------------------------\u001b[0m",
            "\u001b[0;31mTypeError\u001b[0m                                 Traceback (most recent call last)",
            "\u001b[0;32m<ipython-input-103-6a5fa7ae6ee7>\u001b[0m in \u001b[0;36m<cell line: 1>\u001b[0;34m()\u001b[0m\n\u001b[0;32m----> 1\u001b[0;31m \u001b[0mmodel2\u001b[0m\u001b[0;34m.\u001b[0m\u001b[0mload_state_dict\u001b[0m\u001b[0;34m(\u001b[0m\u001b[0mtorch\u001b[0m\u001b[0;34m.\u001b[0m\u001b[0mload\u001b[0m\u001b[0;34m(\u001b[0m\u001b[0;34m'mnist-logistic.pth'\u001b[0m\u001b[0;34m)\u001b[0m\u001b[0;34m)\u001b[0m\u001b[0;34m\u001b[0m\u001b[0;34m\u001b[0m\u001b[0m\n\u001b[0m",
            "\u001b[0;32m/usr/local/lib/python3.10/dist-packages/torch/nn/modules/module.py\u001b[0m in \u001b[0;36mload_state_dict\u001b[0;34m(self, state_dict, strict, assign)\u001b[0m\n\u001b[1;32m   2102\u001b[0m         \"\"\"\n\u001b[1;32m   2103\u001b[0m         \u001b[0;32mif\u001b[0m \u001b[0;32mnot\u001b[0m \u001b[0misinstance\u001b[0m\u001b[0;34m(\u001b[0m\u001b[0mstate_dict\u001b[0m\u001b[0;34m,\u001b[0m \u001b[0mMapping\u001b[0m\u001b[0;34m)\u001b[0m\u001b[0;34m:\u001b[0m\u001b[0;34m\u001b[0m\u001b[0;34m\u001b[0m\u001b[0m\n\u001b[0;32m-> 2104\u001b[0;31m             \u001b[0;32mraise\u001b[0m \u001b[0mTypeError\u001b[0m\u001b[0;34m(\u001b[0m\u001b[0;34mf\"Expected state_dict to be dict-like, got {type(state_dict)}.\"\u001b[0m\u001b[0;34m)\u001b[0m\u001b[0;34m\u001b[0m\u001b[0;34m\u001b[0m\u001b[0m\n\u001b[0m\u001b[1;32m   2105\u001b[0m \u001b[0;34m\u001b[0m\u001b[0m\n\u001b[1;32m   2106\u001b[0m         \u001b[0mmissing_keys\u001b[0m\u001b[0;34m:\u001b[0m \u001b[0mList\u001b[0m\u001b[0;34m[\u001b[0m\u001b[0mstr\u001b[0m\u001b[0;34m]\u001b[0m \u001b[0;34m=\u001b[0m \u001b[0;34m[\u001b[0m\u001b[0;34m]\u001b[0m\u001b[0;34m\u001b[0m\u001b[0;34m\u001b[0m\u001b[0m\n",
            "\u001b[0;31mTypeError\u001b[0m: Expected state_dict to be dict-like, got <class 'method'>."
          ]
        }
      ]
    },
    {
      "cell_type": "code",
      "source": [],
      "metadata": {
        "id": "TkYdkeN471M-"
      },
      "id": "TkYdkeN471M-",
      "execution_count": null,
      "outputs": []
    },
    {
      "cell_type": "code",
      "execution_count": null,
      "id": "96b5028e",
      "metadata": {
        "id": "96b5028e",
        "colab": {
          "base_uri": "https://localhost:8080/"
        },
        "outputId": "d1383380-8922-449c-db4e-81825e528057"
      },
      "outputs": [
        {
          "output_type": "execute_result",
          "data": {
            "text/plain": [
              "{'val_loss': 2.341637134552002, 'val_acc': 0.05644531175494194}"
            ]
          },
          "metadata": {},
          "execution_count": 96
        }
      ],
      "source": [
        "evaluate(model2,test_dl)"
      ]
    },
    {
      "cell_type": "code",
      "execution_count": null,
      "id": "6c3ed8c0",
      "metadata": {
        "id": "6c3ed8c0",
        "colab": {
          "base_uri": "https://localhost:8080/",
          "height": 329
        },
        "outputId": "39cf0ee7-15cb-4af4-a4ad-0014a55ca6bf"
      },
      "outputs": [
        {
          "output_type": "error",
          "ename": "TypeError",
          "evalue": "Expected state_dict to be dict-like, got <class 'method'>.",
          "traceback": [
            "\u001b[0;31m---------------------------------------------------------------------------\u001b[0m",
            "\u001b[0;31mTypeError\u001b[0m                                 Traceback (most recent call last)",
            "\u001b[0;32m<ipython-input-91-6cae89ea314f>\u001b[0m in \u001b[0;36m<cell line: 1>\u001b[0;34m()\u001b[0m\n\u001b[0;32m----> 1\u001b[0;31m \u001b[0mmodel2\u001b[0m\u001b[0;34m.\u001b[0m\u001b[0mload_state_dict\u001b[0m\u001b[0;34m(\u001b[0m\u001b[0mtorch\u001b[0m\u001b[0;34m.\u001b[0m\u001b[0mload\u001b[0m\u001b[0;34m(\u001b[0m\u001b[0;34m'mnist-logistic.pth'\u001b[0m\u001b[0;34m)\u001b[0m\u001b[0;34m)\u001b[0m\u001b[0;34m\u001b[0m\u001b[0;34m\u001b[0m\u001b[0m\n\u001b[0m\u001b[1;32m      2\u001b[0m \u001b[0mmodel2\u001b[0m\u001b[0;34m.\u001b[0m\u001b[0mstate_dict\u001b[0m\u001b[0;34m(\u001b[0m\u001b[0;34m)\u001b[0m\u001b[0;34m\u001b[0m\u001b[0;34m\u001b[0m\u001b[0m\n",
            "\u001b[0;32m/usr/local/lib/python3.10/dist-packages/torch/nn/modules/module.py\u001b[0m in \u001b[0;36mload_state_dict\u001b[0;34m(self, state_dict, strict, assign)\u001b[0m\n\u001b[1;32m   2102\u001b[0m         \"\"\"\n\u001b[1;32m   2103\u001b[0m         \u001b[0;32mif\u001b[0m \u001b[0;32mnot\u001b[0m \u001b[0misinstance\u001b[0m\u001b[0;34m(\u001b[0m\u001b[0mstate_dict\u001b[0m\u001b[0;34m,\u001b[0m \u001b[0mMapping\u001b[0m\u001b[0;34m)\u001b[0m\u001b[0;34m:\u001b[0m\u001b[0;34m\u001b[0m\u001b[0;34m\u001b[0m\u001b[0m\n\u001b[0;32m-> 2104\u001b[0;31m             \u001b[0;32mraise\u001b[0m \u001b[0mTypeError\u001b[0m\u001b[0;34m(\u001b[0m\u001b[0;34mf\"Expected state_dict to be dict-like, got {type(state_dict)}.\"\u001b[0m\u001b[0;34m)\u001b[0m\u001b[0;34m\u001b[0m\u001b[0;34m\u001b[0m\u001b[0m\n\u001b[0m\u001b[1;32m   2105\u001b[0m \u001b[0;34m\u001b[0m\u001b[0m\n\u001b[1;32m   2106\u001b[0m         \u001b[0mmissing_keys\u001b[0m\u001b[0;34m:\u001b[0m \u001b[0mList\u001b[0m\u001b[0;34m[\u001b[0m\u001b[0mstr\u001b[0m\u001b[0;34m]\u001b[0m \u001b[0;34m=\u001b[0m \u001b[0;34m[\u001b[0m\u001b[0;34m]\u001b[0m\u001b[0;34m\u001b[0m\u001b[0;34m\u001b[0m\u001b[0m\n",
            "\u001b[0;31mTypeError\u001b[0m: Expected state_dict to be dict-like, got <class 'method'>."
          ]
        }
      ],
      "source": [
        "model2.state_dict()"
      ]
    },
    {
      "cell_type": "code",
      "execution_count": null,
      "id": "01e728f4",
      "metadata": {
        "id": "01e728f4",
        "colab": {
          "base_uri": "https://localhost:8080/"
        },
        "outputId": "1673e4df-377e-4889-ff06-eb59676de44a"
      },
      "outputs": [
        {
          "output_type": "stream",
          "name": "stdout",
          "text": [
            "[jovian] Detected Colab notebook...\u001b[0m\n",
            "[jovian] jovian.commit() is no longer required on Google Colab. If you ran this notebook from Jovian, \n",
            "then just save this file in Colab using Ctrl+S/Cmd+S and it will be updated on Jovian. \n",
            "Also, you can also delete this cell, it's no longer necessary.\u001b[0m\n"
          ]
        }
      ],
      "source": [
        "jovian.commit(project='03-logistic-regression',environment=None,outputs=['mnist-logistic.pth'])"
      ]
    },
    {
      "cell_type": "code",
      "execution_count": 3,
      "id": "d80767ac",
      "metadata": {
        "id": "d80767ac",
        "colab": {
          "base_uri": "https://localhost:8080/"
        },
        "outputId": "922f3264-045d-4209-8028-32ebed614f87"
      },
      "outputs": [
        {
          "output_type": "stream",
          "name": "stdout",
          "text": [
            "Cloning into 'Working-with-MNIST-dataset'...\n",
            "remote: Enumerating objects: 3, done.\u001b[K\n",
            "remote: Counting objects: 100% (3/3), done.\u001b[K\n",
            "remote: Compressing objects: 100% (2/2), done.\u001b[K\n",
            "remote: Total 3 (delta 0), reused 0 (delta 0), pack-reused 0\u001b[K\n",
            "Receiving objects: 100% (3/3), done.\n"
          ]
        }
      ],
      "source": [
        "!git clone https://github.com/vv0935/Working-with-MNIST-dataset.git\n"
      ]
    },
    {
      "cell_type": "code",
      "execution_count": null,
      "id": "0e563fba",
      "metadata": {
        "id": "0e563fba"
      },
      "outputs": [],
      "source": [
        "!mv https://drive.google.com/drive/folders/1EpLFWdl1RFlWxC9xtYDqiRqmF5fH4XKQ /path/to/cloned/repository/\n"
      ]
    },
    {
      "cell_type": "code",
      "execution_count": null,
      "id": "bd889e22",
      "metadata": {
        "id": "bd889e22"
      },
      "outputs": [],
      "source": []
    },
    {
      "cell_type": "code",
      "execution_count": null,
      "id": "ef0a67e1",
      "metadata": {
        "id": "ef0a67e1"
      },
      "outputs": [],
      "source": []
    },
    {
      "cell_type": "code",
      "execution_count": null,
      "id": "8e83126b",
      "metadata": {
        "id": "8e83126b"
      },
      "outputs": [],
      "source": []
    },
    {
      "cell_type": "code",
      "execution_count": null,
      "id": "213bdc4b",
      "metadata": {
        "id": "213bdc4b"
      },
      "outputs": [],
      "source": []
    },
    {
      "cell_type": "code",
      "execution_count": null,
      "id": "b412fb9a",
      "metadata": {
        "id": "b412fb9a"
      },
      "outputs": [],
      "source": []
    },
    {
      "cell_type": "code",
      "execution_count": null,
      "id": "981eb29f",
      "metadata": {
        "id": "981eb29f"
      },
      "outputs": [],
      "source": []
    },
    {
      "cell_type": "code",
      "execution_count": null,
      "id": "bf85727d",
      "metadata": {
        "id": "bf85727d"
      },
      "outputs": [],
      "source": []
    },
    {
      "cell_type": "code",
      "execution_count": null,
      "id": "0278be92",
      "metadata": {
        "id": "0278be92"
      },
      "outputs": [],
      "source": []
    },
    {
      "cell_type": "code",
      "execution_count": null,
      "id": "6f056da7",
      "metadata": {
        "id": "6f056da7"
      },
      "outputs": [],
      "source": []
    },
    {
      "cell_type": "code",
      "execution_count": null,
      "id": "e4e66a8e",
      "metadata": {
        "id": "e4e66a8e"
      },
      "outputs": [],
      "source": []
    }
  ],
  "metadata": {
    "kernelspec": {
      "display_name": "Python 3",
      "name": "python3"
    },
    "language_info": {
      "codemirror_mode": {
        "name": "ipython",
        "version": 3
      },
      "file_extension": ".py",
      "mimetype": "text/x-python",
      "name": "python",
      "nbconvert_exporter": "python",
      "pygments_lexer": "ipython3",
      "version": "3.9.7"
    },
    "colab": {
      "provenance": []
    },
    "accelerator": "TPU"
  },
  "nbformat": 4,
  "nbformat_minor": 5
}